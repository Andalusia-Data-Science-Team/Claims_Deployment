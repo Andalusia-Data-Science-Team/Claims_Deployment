{
 "cells": [
  {
   "cell_type": "code",
   "execution_count": 6,
   "metadata": {
    "collapsed": true,
    "ExecuteTime": {
     "end_time": "2024-10-12T23:33:07.365443600Z",
     "start_time": "2024-10-12T23:33:06.336901700Z"
    }
   },
   "outputs": [],
   "source": [
    "from src.utilities_rejection import RejectionReasonLabeling, label_reasons, label_reasons_column\n",
    "from cashe import get_train_test_cashe, get_training_inputs, drop_nomodel_columns\n",
    "from sklearn.metrics import classification_report\n",
    "from src.data_local import MergedDataPreprocessing\n",
    "from src.model_train import ModelsSearchEngine\n",
    "from src.model_app import ModelApplication\n",
    "from src.lstm_encoder import LSTMEmbedding\n",
    "from src.model_train import XGBoostTuning\n",
    "\n",
    "df_train, df_test = get_train_test_cashe(date_day='03-09',drop_duplicates=False) ## No need to re-drop duplicates"
   ]
  },
  {
   "cell_type": "code",
   "execution_count": 7,
   "outputs": [
    {
     "name": "stdout",
     "output_type": "stream",
     "text": [
      "data is labeled with medical reason, and the billing reason\n",
      "data is loaded successfully\n",
      "data is preprocessed numerically\n"
     ]
    }
   ],
   "source": [
    "reasons = ['MN-1-1','SE-1-6','CV-1-1','BE-1-6','BE-1-7']\n",
    "reasons = ['MN-1-1','CV-1-1']\n",
    "reasons = ['MN-1-1']\n",
    "\n",
    "train_rej = RejectionReasonLabeling(df_train)\n",
    "train_rej.recoginze_label()\n",
    "train_rej = RejectionReasonLabeling(df_test)\n",
    "train_rej.recoginze_label()\n",
    "\n",
    "df_train, df_test = label_reasons(df_train,df_test,reasons)\n",
    "\n",
    "print('data is labeled with medical reason, and the billing reason')\n",
    "X_train, y_train, X_test, y_test = get_training_inputs(df_train, df_test)\n",
    "y_train.loc[:, 'NPHIES_LABEL'] = df_train['NPHIES_LABEL'].tolist()\n",
    "y_test.loc[:, 'NPHIES_LABEL'] = df_test['NPHIES_LABEL'].tolist()\n",
    "\n",
    "X_train.drop(columns=['NPHIES_CODE'],inplace=True); X_test.drop(columns=['NPHIES_CODE'],inplace=True)\n",
    "\n",
    "print('data is loaded successfully')\n",
    "preprocessing_train = MergedDataPreprocessing(X_train)\n",
    "X_train_prep = preprocessing_train.columns_prep()\n",
    "\n",
    "preprocessing_test = MergedDataPreprocessing(X_test)\n",
    "X_test_prep = preprocessing_test.columns_prep()\n",
    "\n",
    "print('data is preprocessed numerically')"
   ],
   "metadata": {
    "collapsed": false,
    "ExecuteTime": {
     "end_time": "2024-10-12T23:33:13.714643100Z",
     "start_time": "2024-10-12T23:33:08.079447Z"
    }
   }
  },
  {
   "cell_type": "code",
   "execution_count": 8,
   "outputs": [
    {
     "name": "stdout",
     "output_type": "stream",
     "text": [
      "data is encoded\n"
     ]
    }
   ],
   "source": [
    "lstm_embedding = LSTMEmbedding()\n",
    "dropping_check = True\n",
    "\n",
    "X_train_encoded = preprocessing_train.column_embedding(X_train_prep,drop_after_processing=dropping_check)\n",
    "X_test_encoded  = preprocessing_train.column_embedding(X_test_prep, drop_after_processing=dropping_check)\n",
    "\n",
    "print('data is encoded')"
   ],
   "metadata": {
    "collapsed": false,
    "ExecuteTime": {
     "end_time": "2024-10-12T23:39:27.262692700Z",
     "start_time": "2024-10-12T23:33:13.718759100Z"
    }
   }
  },
  {
   "cell_type": "code",
   "execution_count": 9,
   "outputs": [],
   "source": [
    "dropping_check = False\n",
    "\n",
    "X_train = drop_nomodel_columns(X_train_encoded, eliminate_repeated=dropping_check)\n",
    "X_test  = drop_nomodel_columns(X_test_encoded,  eliminate_repeated=dropping_check)"
   ],
   "metadata": {
    "collapsed": false,
    "ExecuteTime": {
     "end_time": "2024-10-12T23:39:30.170593600Z",
     "start_time": "2024-10-12T23:39:27.264686600Z"
    }
   }
  },
  {
   "cell_type": "code",
   "execution_count": 10,
   "outputs": [],
   "source": [
    "outcomes_train = label_reasons_column(y_train);  outcomes_test  = label_reasons_column(y_test)\n",
    "\n",
    "y_train = y_train.copy();  y_test = y_test.copy()\n",
    "y_train.loc[:, 'OUTCOME_MERGED'] = outcomes_train;  y_test.loc[:, 'OUTCOME_MERGED'] = outcomes_test"
   ],
   "metadata": {
    "collapsed": false,
    "ExecuteTime": {
     "end_time": "2024-10-12T23:39:34.663206900Z",
     "start_time": "2024-10-12T23:39:30.172589Z"
    }
   }
  },
  {
   "cell_type": "code",
   "execution_count": 18,
   "outputs": [],
   "source": [
    "path_to_save = 'drafts/Hady_Folder/'\n",
    "\n",
    "#X_train.to_csv(f'{path_to_save}train.csv',index=False); X_test.to_csv(f'{path_to_save}test.csv',index=False); y_train.to_csv(f'{path_to_save}y_train.csv',index=False); y_test.to_csv(f'{path_to_save}y_test.csv',index=False)"
   ],
   "metadata": {
    "collapsed": false,
    "ExecuteTime": {
     "end_time": "2024-10-08T14:50:50.591565Z",
     "start_time": "2024-10-08T14:50:50.579707700Z"
    }
   }
  },
  {
   "cell_type": "markdown",
   "source": [
    "## Choose a model"
   ],
   "metadata": {
    "collapsed": false
   }
  },
  {
   "cell_type": "code",
   "execution_count": 7,
   "outputs": [
    {
     "name": "stdout",
     "output_type": "stream",
     "text": [
      "[LightGBM] [Info] Total Bins 6996\n",
      "[LightGBM] [Info] Number of data points in the train set: 209680, number of used features: 88\n",
      "[LightGBM] [Info] Start training from score -1.076823\n",
      "[LightGBM] [Info] Start training from score -0.592579\n",
      "[LightGBM] [Info] Start training from score -2.240323\n",
      "\n",
      "\n",
      "LightGBM, Decision Tree, SGD and Neural Network are trained on dataset.\n"
     ]
    }
   ],
   "source": [
    "X_train.fillna(0,inplace=True)\n",
    "X_test.fillna(0,inplace=True)\n",
    "\n",
    "model_trial = ModelsSearchEngine(X_train=X_train,y_train=y_train['OUTCOME_MERGED'],\n",
    "                            X_test=X_test,y_test=y_test['OUTCOME_MERGED'])\n",
    "\n",
    "model_trial.train_models()"
   ],
   "metadata": {
    "collapsed": false,
    "ExecuteTime": {
     "end_time": "2024-10-05T18:23:50.601124300Z",
     "start_time": "2024-10-05T18:12:08.075163800Z"
    }
   }
  },
  {
   "cell_type": "code",
   "execution_count": 8,
   "outputs": [
    {
     "name": "stderr",
     "output_type": "stream",
     "text": [
      "E:\\Projects\\Claims_Deployment\\venv\\lib\\site-packages\\sklearn\\metrics\\_classification.py:1509: UndefinedMetricWarning: Precision is ill-defined and being set to 0.0 in labels with no predicted samples. Use `zero_division` parameter to control this behavior.\n",
      "  _warn_prf(average, modifier, f\"{metric.capitalize()} is\", len(result))\n"
     ]
    },
    {
     "data": {
      "text/plain": "{'Decision Tree': {'Accuracy': 0.63,\n  'Precision': 0.63,\n  'Recall': 0.63,\n  'F1 Score': 0.63},\n 'LightGBM': {'Accuracy': 0.69,\n  'Precision': 0.71,\n  'Recall': 0.69,\n  'F1 Score': 0.7},\n 'SGD Classifier': {'Accuracy': 0.5,\n  'Precision': 0.53,\n  'Recall': 0.5,\n  'F1 Score': 0.51},\n 'XGBoost': {'Accuracy': 0.71,\n  'Precision': 0.72,\n  'Recall': 0.71,\n  'F1 Score': 0.71},\n 'Neural Network': {'Accuracy': 0.62,\n  'Precision': 0.55,\n  'Recall': 0.62,\n  'F1 Score': 0.58}}"
     },
     "execution_count": 8,
     "metadata": {},
     "output_type": "execute_result"
    }
   ],
   "source": [
    "result_analysis = model_trial.evaluate_models()\n",
    "result_analysis"
   ],
   "metadata": {
    "collapsed": false,
    "ExecuteTime": {
     "end_time": "2024-10-05T18:23:52.422972800Z",
     "start_time": "2024-10-05T18:23:50.603121Z"
    }
   }
  },
  {
   "cell_type": "markdown",
   "source": [
    "## Tune XGB"
   ],
   "metadata": {
    "collapsed": false
   }
  },
  {
   "cell_type": "code",
   "execution_count": null,
   "outputs": [],
   "source": [
    "param_grid = {\n",
    "    'n_estimators': [100,150,200],\n",
    "    'max_depth': [9,11],\n",
    "    'learning_rate': [0.1, 0.2, 0.3, 0.4, 0.5],\n",
    "    'subsample': [ 0.9, 1.0]     }\n",
    "\n",
    "param_grid = {\n",
    "    'n_estimators': [150,200],\n",
    "    'max_depth': [11,13,15,18],\n",
    "    'learning_rate': [0.1, 0.2, 0.3],\n",
    "    'subsample': [ 0.9]   }\n",
    "\n",
    "trainer = XGBoostTuning(X_train, y_train['OUTCOME_MERGED'], X_test, y_test['OUTCOME_MERGED'])\n",
    "best_model, best_params, best_score = trainer.train_and_evaluate(param_grid)\n",
    "\n",
    "trainer.save_results(file_path='drafts/Reports/2024_09_11/xgboost_parameters.xlsx')"
   ],
   "metadata": {
    "collapsed": false
   }
  },
  {
   "cell_type": "markdown",
   "source": [
    "## Train XGB"
   ],
   "metadata": {
    "collapsed": false
   }
  },
  {
   "cell_type": "code",
   "execution_count": 11,
   "outputs": [
    {
     "data": {
      "text/plain": "NPHIES_LABEL\n0    210921\n2     25524\nName: count, dtype: int64"
     },
     "execution_count": 11,
     "metadata": {},
     "output_type": "execute_result"
    }
   ],
   "source": [
    "y_train['NPHIES_LABEL'].value_counts()"
   ],
   "metadata": {
    "collapsed": false,
    "ExecuteTime": {
     "end_time": "2024-10-12T23:39:34.679689Z",
     "start_time": "2024-10-12T23:39:34.665203Z"
    }
   }
  },
  {
   "cell_type": "code",
   "execution_count": 12,
   "outputs": [
    {
     "name": "stderr",
     "output_type": "stream",
     "text": [
      "E:\\Projects\\Claims_Deployment\\venv\\lib\\site-packages\\xgboost\\sklearn.py:889: UserWarning: `eval_metric` in `fit` method is deprecated for better compatibility with scikit-learn, use `eval_metric` in constructor or`set_params` instead.\n",
      "  warnings.warn(\n",
      "E:\\Projects\\Claims_Deployment\\venv\\lib\\site-packages\\xgboost\\sklearn.py:889: UserWarning: `early_stopping_rounds` in `fit` method is deprecated for better compatibility with scikit-learn, use `early_stopping_rounds` in constructor or`set_params` instead.\n",
      "  warnings.warn(\n"
     ]
    },
    {
     "name": "stdout",
     "output_type": "stream",
     "text": [
      "[0]\tvalidation_0-aucpr:0.72218\n",
      "[1]\tvalidation_0-aucpr:0.72753\n",
      "[2]\tvalidation_0-aucpr:0.74353\n",
      "[3]\tvalidation_0-aucpr:0.74843\n",
      "[4]\tvalidation_0-aucpr:0.75158\n",
      "[5]\tvalidation_0-aucpr:0.75982\n",
      "[6]\tvalidation_0-aucpr:0.76378\n",
      "[7]\tvalidation_0-aucpr:0.76692\n",
      "[8]\tvalidation_0-aucpr:0.76900\n",
      "[9]\tvalidation_0-aucpr:0.77451\n",
      "[10]\tvalidation_0-aucpr:0.77553\n",
      "[11]\tvalidation_0-aucpr:0.77653\n",
      "[12]\tvalidation_0-aucpr:0.77423\n",
      "[13]\tvalidation_0-aucpr:0.77611\n",
      "[14]\tvalidation_0-aucpr:0.77847\n",
      "[15]\tvalidation_0-aucpr:0.78042\n",
      "[16]\tvalidation_0-aucpr:0.77902\n",
      "[17]\tvalidation_0-aucpr:0.77981\n",
      "[18]\tvalidation_0-aucpr:0.78396\n",
      "[19]\tvalidation_0-aucpr:0.78507\n",
      "[20]\tvalidation_0-aucpr:0.78580\n",
      "[21]\tvalidation_0-aucpr:0.78589\n",
      "[22]\tvalidation_0-aucpr:0.78632\n",
      "[23]\tvalidation_0-aucpr:0.78701\n",
      "[24]\tvalidation_0-aucpr:0.78762\n",
      "[25]\tvalidation_0-aucpr:0.78796\n",
      "[26]\tvalidation_0-aucpr:0.78848\n",
      "[27]\tvalidation_0-aucpr:0.78936\n",
      "[28]\tvalidation_0-aucpr:0.78954\n",
      "[29]\tvalidation_0-aucpr:0.78976\n",
      "[30]\tvalidation_0-aucpr:0.79033\n",
      "[31]\tvalidation_0-aucpr:0.78929\n",
      "[32]\tvalidation_0-aucpr:0.78961\n",
      "[33]\tvalidation_0-aucpr:0.78961\n",
      "[34]\tvalidation_0-aucpr:0.78939\n",
      "[35]\tvalidation_0-aucpr:0.78947\n",
      "[36]\tvalidation_0-aucpr:0.79104\n",
      "[37]\tvalidation_0-aucpr:0.79066\n",
      "[38]\tvalidation_0-aucpr:0.79119\n",
      "[39]\tvalidation_0-aucpr:0.79214\n",
      "[40]\tvalidation_0-aucpr:0.79315\n",
      "[41]\tvalidation_0-aucpr:0.79311\n",
      "[42]\tvalidation_0-aucpr:0.79285\n",
      "[43]\tvalidation_0-aucpr:0.79292\n",
      "[44]\tvalidation_0-aucpr:0.79338\n",
      "[45]\tvalidation_0-aucpr:0.79409\n",
      "[46]\tvalidation_0-aucpr:0.79484\n",
      "[47]\tvalidation_0-aucpr:0.79507\n",
      "[48]\tvalidation_0-aucpr:0.79536\n",
      "[49]\tvalidation_0-aucpr:0.79618\n",
      "[50]\tvalidation_0-aucpr:0.79916\n",
      "[51]\tvalidation_0-aucpr:0.79849\n",
      "[52]\tvalidation_0-aucpr:0.79855\n",
      "[53]\tvalidation_0-aucpr:0.79887\n",
      "[54]\tvalidation_0-aucpr:0.79899\n",
      "[55]\tvalidation_0-aucpr:0.79917\n",
      "[56]\tvalidation_0-aucpr:0.79857\n",
      "[57]\tvalidation_0-aucpr:0.79824\n",
      "[58]\tvalidation_0-aucpr:0.79842\n",
      "[59]\tvalidation_0-aucpr:0.79745\n",
      "[60]\tvalidation_0-aucpr:0.79748\n",
      "[61]\tvalidation_0-aucpr:0.79709\n",
      "[62]\tvalidation_0-aucpr:0.79707\n",
      "[63]\tvalidation_0-aucpr:0.79730\n",
      "[64]\tvalidation_0-aucpr:0.79762\n",
      "Training is done\n",
      "Binary Classifier metrics calculation\n"
     ]
    },
    {
     "data": {
      "text/plain": "{'XGBoost': {'Accuracy': 0.73,\n  'Precision': 0.71,\n  'Recall': 0.77,\n  'F1 Score': 0.74}}"
     },
     "execution_count": 12,
     "metadata": {},
     "output_type": "execute_result"
    }
   ],
   "source": [
    "model_runner = ModelApplication(X_train= X_train,y_train= y_train['OUTCOME'],\n",
    "                                X_test= X_test,y_test= y_test['OUTCOME'],\n",
    "                                enable_categorical=True)\n",
    "\n",
    "model_runner.get_model(force_retrain=True,model_name='outcome')\n",
    "model_runner.evaluate_model()"
   ],
   "metadata": {
    "collapsed": false,
    "ExecuteTime": {
     "end_time": "2024-10-12T23:39:41.924455Z",
     "start_time": "2024-10-12T23:39:34.681655400Z"
    }
   }
  },
  {
   "cell_type": "code",
   "execution_count": 13,
   "outputs": [
    {
     "name": "stdout",
     "output_type": "stream",
     "text": [
      "              precision    recall  f1-score   support\n",
      "\n",
      "           0       0.74      0.68      0.71     29110\n",
      "           1       0.71      0.77      0.74     30002\n",
      "\n",
      "    accuracy                           0.73     59112\n",
      "   macro avg       0.73      0.72      0.72     59112\n",
      "weighted avg       0.73      0.73      0.72     59112\n",
      "\n"
     ]
    }
   ],
   "source": [
    "PREDS = list(model_runner.model_predict(X_test))\n",
    "print(classification_report(y_test['OUTCOME'].tolist(), PREDS))"
   ],
   "metadata": {
    "collapsed": false,
    "ExecuteTime": {
     "end_time": "2024-10-12T23:39:42.081080200Z",
     "start_time": "2024-10-12T23:39:41.924455Z"
    }
   }
  },
  {
   "cell_type": "code",
   "execution_count": 18,
   "outputs": [
    {
     "name": "stderr",
     "output_type": "stream",
     "text": [
      "E:\\Projects\\Claims_Deployment\\venv\\lib\\site-packages\\xgboost\\sklearn.py:889: UserWarning: `eval_metric` in `fit` method is deprecated for better compatibility with scikit-learn, use `eval_metric` in constructor or`set_params` instead.\n",
      "  warnings.warn(\n",
      "E:\\Projects\\Claims_Deployment\\venv\\lib\\site-packages\\xgboost\\sklearn.py:889: UserWarning: `early_stopping_rounds` in `fit` method is deprecated for better compatibility with scikit-learn, use `early_stopping_rounds` in constructor or`set_params` instead.\n",
      "  warnings.warn(\n"
     ]
    },
    {
     "name": "stdout",
     "output_type": "stream",
     "text": [
      "[0]\tvalidation_0-aucpr:0.23179\n",
      "[1]\tvalidation_0-aucpr:0.23435\n",
      "[2]\tvalidation_0-aucpr:0.23989\n",
      "[3]\tvalidation_0-aucpr:0.24577\n",
      "[4]\tvalidation_0-aucpr:0.26184\n",
      "[5]\tvalidation_0-aucpr:0.26521\n",
      "[6]\tvalidation_0-aucpr:0.26058\n",
      "[7]\tvalidation_0-aucpr:0.26164\n",
      "[8]\tvalidation_0-aucpr:0.27706\n",
      "[9]\tvalidation_0-aucpr:0.28128\n",
      "[10]\tvalidation_0-aucpr:0.28384\n",
      "[11]\tvalidation_0-aucpr:0.28304\n",
      "[12]\tvalidation_0-aucpr:0.28241\n",
      "[13]\tvalidation_0-aucpr:0.28444\n",
      "[14]\tvalidation_0-aucpr:0.29337\n",
      "[15]\tvalidation_0-aucpr:0.29325\n",
      "[16]\tvalidation_0-aucpr:0.29902\n",
      "[17]\tvalidation_0-aucpr:0.30027\n",
      "[18]\tvalidation_0-aucpr:0.30201\n",
      "[19]\tvalidation_0-aucpr:0.30847\n",
      "[20]\tvalidation_0-aucpr:0.30872\n",
      "[21]\tvalidation_0-aucpr:0.31085\n",
      "[22]\tvalidation_0-aucpr:0.31489\n",
      "[23]\tvalidation_0-aucpr:0.31584\n",
      "[24]\tvalidation_0-aucpr:0.31713\n",
      "[25]\tvalidation_0-aucpr:0.31794\n",
      "[26]\tvalidation_0-aucpr:0.32022\n",
      "[27]\tvalidation_0-aucpr:0.32024\n",
      "[28]\tvalidation_0-aucpr:0.31847\n",
      "[29]\tvalidation_0-aucpr:0.31853\n",
      "[30]\tvalidation_0-aucpr:0.31883\n",
      "[31]\tvalidation_0-aucpr:0.31879\n",
      "[32]\tvalidation_0-aucpr:0.31854\n",
      "[33]\tvalidation_0-aucpr:0.31850\n",
      "[34]\tvalidation_0-aucpr:0.32168\n",
      "[35]\tvalidation_0-aucpr:0.32203\n",
      "[36]\tvalidation_0-aucpr:0.32597\n",
      "[37]\tvalidation_0-aucpr:0.32642\n",
      "[38]\tvalidation_0-aucpr:0.32567\n",
      "[39]\tvalidation_0-aucpr:0.32769\n",
      "[40]\tvalidation_0-aucpr:0.32770\n",
      "[41]\tvalidation_0-aucpr:0.32643\n",
      "[42]\tvalidation_0-aucpr:0.32849\n",
      "[43]\tvalidation_0-aucpr:0.32800\n",
      "[44]\tvalidation_0-aucpr:0.33157\n",
      "[45]\tvalidation_0-aucpr:0.33287\n",
      "[46]\tvalidation_0-aucpr:0.33286\n",
      "[47]\tvalidation_0-aucpr:0.33668\n",
      "[48]\tvalidation_0-aucpr:0.33675\n",
      "[49]\tvalidation_0-aucpr:0.33591\n",
      "[50]\tvalidation_0-aucpr:0.33509\n",
      "[51]\tvalidation_0-aucpr:0.33852\n",
      "[52]\tvalidation_0-aucpr:0.33628\n",
      "[53]\tvalidation_0-aucpr:0.33890\n",
      "[54]\tvalidation_0-aucpr:0.33919\n",
      "[55]\tvalidation_0-aucpr:0.34035\n",
      "[56]\tvalidation_0-aucpr:0.34088\n",
      "[57]\tvalidation_0-aucpr:0.34063\n",
      "[58]\tvalidation_0-aucpr:0.34029\n",
      "[59]\tvalidation_0-aucpr:0.34040\n",
      "[60]\tvalidation_0-aucpr:0.34123\n",
      "[61]\tvalidation_0-aucpr:0.34071\n",
      "[62]\tvalidation_0-aucpr:0.34261\n",
      "[63]\tvalidation_0-aucpr:0.34372\n",
      "[64]\tvalidation_0-aucpr:0.34383\n",
      "[65]\tvalidation_0-aucpr:0.34488\n",
      "[66]\tvalidation_0-aucpr:0.34485\n",
      "[67]\tvalidation_0-aucpr:0.34991\n",
      "[68]\tvalidation_0-aucpr:0.35130\n",
      "[69]\tvalidation_0-aucpr:0.35131\n",
      "[70]\tvalidation_0-aucpr:0.35224\n",
      "[71]\tvalidation_0-aucpr:0.35542\n",
      "[72]\tvalidation_0-aucpr:0.35711\n",
      "[73]\tvalidation_0-aucpr:0.35688\n",
      "[74]\tvalidation_0-aucpr:0.35669\n",
      "[75]\tvalidation_0-aucpr:0.35680\n",
      "[76]\tvalidation_0-aucpr:0.35753\n",
      "[77]\tvalidation_0-aucpr:0.35803\n",
      "[78]\tvalidation_0-aucpr:0.35843\n",
      "[79]\tvalidation_0-aucpr:0.36073\n",
      "[80]\tvalidation_0-aucpr:0.36050\n",
      "[81]\tvalidation_0-aucpr:0.36003\n",
      "[82]\tvalidation_0-aucpr:0.36118\n",
      "[83]\tvalidation_0-aucpr:0.36329\n",
      "[84]\tvalidation_0-aucpr:0.36285\n",
      "[85]\tvalidation_0-aucpr:0.36342\n",
      "[86]\tvalidation_0-aucpr:0.36264\n",
      "[87]\tvalidation_0-aucpr:0.36274\n",
      "[88]\tvalidation_0-aucpr:0.36367\n",
      "[89]\tvalidation_0-aucpr:0.36398\n",
      "[90]\tvalidation_0-aucpr:0.36051\n",
      "[91]\tvalidation_0-aucpr:0.36015\n",
      "[92]\tvalidation_0-aucpr:0.36015\n",
      "[93]\tvalidation_0-aucpr:0.35862\n",
      "[94]\tvalidation_0-aucpr:0.36139\n",
      "[95]\tvalidation_0-aucpr:0.36068\n",
      "[96]\tvalidation_0-aucpr:0.36091\n",
      "[97]\tvalidation_0-aucpr:0.36070\n",
      "[98]\tvalidation_0-aucpr:0.36132\n",
      "[99]\tvalidation_0-aucpr:0.36165\n",
      "Training is done\n",
      "Binary Classifier metrics calculation\n"
     ]
    },
    {
     "data": {
      "text/plain": "{'XGBoost': {'Accuracy': 0.91,\n  'Precision': 0.51,\n  'Recall': 0.25,\n  'F1 Score': 0.33}}"
     },
     "execution_count": 18,
     "metadata": {},
     "output_type": "execute_result"
    }
   ],
   "source": [
    "model_runner = ModelApplication(X_train= X_train,y_train= y_train['NPHIES_LABEL'].replace(2,1),\n",
    "                                X_test= X_test,y_test= y_test['NPHIES_LABEL'].replace(2,1),\n",
    "                                enable_categorical=True)\n",
    "\n",
    "model_runner.get_model(force_retrain=True,model_name='medical')\n",
    "model_runner.evaluate_model()"
   ],
   "metadata": {
    "collapsed": false,
    "ExecuteTime": {
     "end_time": "2024-10-12T23:48:20.403106900Z",
     "start_time": "2024-10-12T23:48:10.582983700Z"
    }
   }
  },
  {
   "cell_type": "code",
   "execution_count": 16,
   "outputs": [
    {
     "name": "stdout",
     "output_type": "stream",
     "text": [
      "              precision    recall  f1-score   support\n",
      "\n",
      "           0       0.93      0.98      0.95     53975\n",
      "           1       0.51      0.25      0.33      5137\n",
      "\n",
      "    accuracy                           0.91     59112\n",
      "   macro avg       0.72      0.61      0.64     59112\n",
      "weighted avg       0.90      0.91      0.90     59112\n",
      "\n"
     ]
    }
   ],
   "source": [
    "PREDS = list(model_runner.model_predict(X_test))\n",
    "print(classification_report(y_test['NPHIES_LABEL'].replace(2,1), PREDS))"
   ],
   "metadata": {
    "collapsed": false,
    "ExecuteTime": {
     "end_time": "2024-10-12T23:40:06.419982200Z",
     "start_time": "2024-10-12T23:40:06.242149Z"
    }
   }
  },
  {
   "cell_type": "code",
   "execution_count": 9,
   "outputs": [
    {
     "name": "stderr",
     "output_type": "stream",
     "text": [
      "C:\\Users\\omar.mounir\\AppData\\Local\\Temp\\ipykernel_14568\\3899507444.py:9: SettingWithCopyWarning: \n",
      "A value is trying to be set on a copy of a slice from a DataFrame.\n",
      "Try using .loc[row_indexer,col_indexer] = value instead\n",
      "\n",
      "See the caveats in the documentation: https://pandas.pydata.org/pandas-docs/stable/user_guide/indexing.html#returning-a-view-versus-a-copy\n",
      "  df_test_preds['PREDICTIONS'] = PREDS_DECODED\n"
     ]
    }
   ],
   "source": [
    "def get_output_test_set(df_test):\n",
    "    apply_dict = {0:'Rejected-Generally',1:\"Approved\",2:\"Rejected-Medically\"}\n",
    "    PREDS = list(model_runner.model_predict(X_test))\n",
    "    PREDS_DECODED = [apply_dict.get(item, item) for item in PREDS]\n",
    "\n",
    "    last_three_columns = ['OUTCOME', 'NPHIES_CODE', 'NPHIES_LABEL']\n",
    "    other_columns = [col for col in df_test.columns if col not in last_three_columns]\n",
    "    df_test_preds = df_test[other_columns + last_three_columns]\n",
    "    df_test_preds['PREDICTIONS'] = PREDS_DECODED\n",
    "    return df_test_preds\n",
    "\n",
    "df_test_preds = get_output_test_set(df_test)"
   ],
   "metadata": {
    "collapsed": false,
    "ExecuteTime": {
     "end_time": "2024-09-17T13:15:20.145991200Z",
     "start_time": "2024-09-17T13:15:19.820823400Z"
    }
   }
  },
  {
   "cell_type": "code",
   "execution_count": 40,
   "outputs": [
    {
     "data": {
      "text/plain": "              REQUEST_DATE    VISIT_NO VISIT_DATE EMERGENCY_INDICATOR  \\\n365589 2024-06-02 21:59:23   1149844-2 2024-05-29                   N   \n305745 2024-06-02 21:59:29   1302668-2 2024-05-18                   N   \n305744 2024-06-02 21:59:29   1302668-2 2024-05-18                   N   \n307086 2024-06-02 21:59:29   1302668-2 2024-05-18                   N   \n307088 2024-06-02 21:59:29   1302668-2 2024-05-18                   N   \n...                    ...         ...        ...                 ...   \n352722 2024-07-08 17:09:02  1300863-11 2024-06-13                   Y   \n352721 2024-07-08 17:09:02  1300863-11 2024-06-13                   Y   \n352720 2024-07-08 17:09:02  1300863-11 2024-06-13                   Y   \n352719 2024-07-08 17:09:02  1300863-11 2024-06-13                   Y   \n352731 2024-07-08 17:09:02  1300863-11 2024-06-13                   Y   \n\n        PROVIDER_DEPARTMENT_CODE                     PROVIDER_DEPARTMENT  \\\n365589                        21            ORTHOPAEDIC SERVICE - العظام   \n305745                         5  DERMATOLOGY & VENEREOLOGY SERV - جلدية   \n305744                         5  DERMATOLOGY & VENEREOLOGY SERV - جلدية   \n307086                         5  DERMATOLOGY & VENEREOLOGY SERV - جلدية   \n307088                         5  DERMATOLOGY & VENEREOLOGY SERV - جلدية   \n...                          ...                                     ...   \n352722                        39         EMERGENCY ROOM SERVICES - طوارى   \n352721                        39         EMERGENCY ROOM SERVICES - طوارى   \n352720                        39         EMERGENCY ROOM SERVICES - طوارى   \n352719                        39         EMERGENCY ROOM SERVICES - طوارى   \n352731                        39         EMERGENCY ROOM SERVICES - طوارى   \n\n        DOCTOR_SPECIALTY_CODE  DOCTOR_CODE  PATIENT_NO  EPISODE_NO  ...  \\\n365589                  22.05         4946      997446           2  ...   \n305745                   3.00         9501     1142676           2  ...   \n305744                   3.00         9501     1142676           2  ...   \n307086                   3.00         9501     1142676           2  ...   \n307088                   3.00         9501     1142676           2  ...   \n...                       ...          ...         ...         ...  ...   \n352722                   4.00         7060     1140965          11  ...   \n352721                   4.00         7060     1140965          11  ...   \n352720                   4.00         7060     1140965          11  ...   \n352719                   4.00         7060     1140965          11  ...   \n352731                   4.00         7060     1140965          11  ...   \n\n        DISCOUNT_PERCENTAGE                       NOTES  APPROVED_QUNATITY  \\\n365589                 0.00                       -                    1.0   \n305745                 6.99                 -  BE-1-7                  0.0   \n305744                30.00                       -                    1.0   \n307086                 0.00                 -  CV-4-7                  0.0   \n307088                 0.00                 -  CV-4-7                  0.0   \n...                     ...                         ...                ...   \n352722                 4.99  Partial Approved  SE-1-6                  0.0   \n352721                 5.00  Partial Approved  SE-1-6                  0.0   \n352720                 5.04  Partial Approved  SE-1-6                  0.0   \n352719                20.00  Partial Approved  SE-1-6                  0.0   \n352731                 5.01  Partial Approved  SE-1-6                  0.0   \n\n        ICD10 Diagnosis_Key  \\\n365589  M75.0     110209631   \n305745    B07      10160324   \n305744    B07      10160324   \n307086    B07      10160324   \n307088    B07      10160324   \n...       ...           ...   \n352722  J06.9      10164354   \n352721  J06.9      10164354   \n352720  J06.9      10164354   \n352719  J06.9      10164354   \n352731  J06.9      10164354   \n\n                                          Chief_Complaint   OUTCOME  \\\n365589  left shoulder pain no truma 1w over use during...  APPROVED   \n305745                                               None  REJECTED   \n305744                                               None  APPROVED   \n307086                                               None  REJECTED   \n307088                                               None  REJECTED   \n...                                                   ...       ...   \n352722                                               None  REJECTED   \n352721                                               None  REJECTED   \n352720                                               None  REJECTED   \n352719                                               None  REJECTED   \n352731                                               None  REJECTED   \n\n       NPHIES_CODE NPHIES_LABEL         PREDICTIONS  \n365589        None            0            Approved  \n305745      BE-1-7            0            Approved  \n305744        None            0            Approved  \n307086        None            0            Approved  \n307088        None            0            Approved  \n...            ...          ...                 ...  \n352722      SE-1-6            0            Approved  \n352721      SE-1-6            0            Approved  \n352720      SE-1-6            0            Approved  \n352719      SE-1-6            0  Rejected-Generally  \n352731      SE-1-6            0            Approved  \n\n[64011 rows x 104 columns]",
      "text/html": "<div>\n<style scoped>\n    .dataframe tbody tr th:only-of-type {\n        vertical-align: middle;\n    }\n\n    .dataframe tbody tr th {\n        vertical-align: top;\n    }\n\n    .dataframe thead th {\n        text-align: right;\n    }\n</style>\n<table border=\"1\" class=\"dataframe\">\n  <thead>\n    <tr style=\"text-align: right;\">\n      <th></th>\n      <th>REQUEST_DATE</th>\n      <th>VISIT_NO</th>\n      <th>VISIT_DATE</th>\n      <th>EMERGENCY_INDICATOR</th>\n      <th>PROVIDER_DEPARTMENT_CODE</th>\n      <th>PROVIDER_DEPARTMENT</th>\n      <th>DOCTOR_SPECIALTY_CODE</th>\n      <th>DOCTOR_CODE</th>\n      <th>PATIENT_NO</th>\n      <th>EPISODE_NO</th>\n      <th>...</th>\n      <th>DISCOUNT_PERCENTAGE</th>\n      <th>NOTES</th>\n      <th>APPROVED_QUNATITY</th>\n      <th>ICD10</th>\n      <th>Diagnosis_Key</th>\n      <th>Chief_Complaint</th>\n      <th>OUTCOME</th>\n      <th>NPHIES_CODE</th>\n      <th>NPHIES_LABEL</th>\n      <th>PREDICTIONS</th>\n    </tr>\n  </thead>\n  <tbody>\n    <tr>\n      <th>365589</th>\n      <td>2024-06-02 21:59:23</td>\n      <td>1149844-2</td>\n      <td>2024-05-29</td>\n      <td>N</td>\n      <td>21</td>\n      <td>ORTHOPAEDIC SERVICE - العظام</td>\n      <td>22.05</td>\n      <td>4946</td>\n      <td>997446</td>\n      <td>2</td>\n      <td>...</td>\n      <td>0.00</td>\n      <td>-</td>\n      <td>1.0</td>\n      <td>M75.0</td>\n      <td>110209631</td>\n      <td>left shoulder pain no truma 1w over use during...</td>\n      <td>APPROVED</td>\n      <td>None</td>\n      <td>0</td>\n      <td>Approved</td>\n    </tr>\n    <tr>\n      <th>305745</th>\n      <td>2024-06-02 21:59:29</td>\n      <td>1302668-2</td>\n      <td>2024-05-18</td>\n      <td>N</td>\n      <td>5</td>\n      <td>DERMATOLOGY &amp; VENEREOLOGY SERV - جلدية</td>\n      <td>3.00</td>\n      <td>9501</td>\n      <td>1142676</td>\n      <td>2</td>\n      <td>...</td>\n      <td>6.99</td>\n      <td>-  BE-1-7</td>\n      <td>0.0</td>\n      <td>B07</td>\n      <td>10160324</td>\n      <td>None</td>\n      <td>REJECTED</td>\n      <td>BE-1-7</td>\n      <td>0</td>\n      <td>Approved</td>\n    </tr>\n    <tr>\n      <th>305744</th>\n      <td>2024-06-02 21:59:29</td>\n      <td>1302668-2</td>\n      <td>2024-05-18</td>\n      <td>N</td>\n      <td>5</td>\n      <td>DERMATOLOGY &amp; VENEREOLOGY SERV - جلدية</td>\n      <td>3.00</td>\n      <td>9501</td>\n      <td>1142676</td>\n      <td>2</td>\n      <td>...</td>\n      <td>30.00</td>\n      <td>-</td>\n      <td>1.0</td>\n      <td>B07</td>\n      <td>10160324</td>\n      <td>None</td>\n      <td>APPROVED</td>\n      <td>None</td>\n      <td>0</td>\n      <td>Approved</td>\n    </tr>\n    <tr>\n      <th>307086</th>\n      <td>2024-06-02 21:59:29</td>\n      <td>1302668-2</td>\n      <td>2024-05-18</td>\n      <td>N</td>\n      <td>5</td>\n      <td>DERMATOLOGY &amp; VENEREOLOGY SERV - جلدية</td>\n      <td>3.00</td>\n      <td>9501</td>\n      <td>1142676</td>\n      <td>2</td>\n      <td>...</td>\n      <td>0.00</td>\n      <td>-  CV-4-7</td>\n      <td>0.0</td>\n      <td>B07</td>\n      <td>10160324</td>\n      <td>None</td>\n      <td>REJECTED</td>\n      <td>None</td>\n      <td>0</td>\n      <td>Approved</td>\n    </tr>\n    <tr>\n      <th>307088</th>\n      <td>2024-06-02 21:59:29</td>\n      <td>1302668-2</td>\n      <td>2024-05-18</td>\n      <td>N</td>\n      <td>5</td>\n      <td>DERMATOLOGY &amp; VENEREOLOGY SERV - جلدية</td>\n      <td>3.00</td>\n      <td>9501</td>\n      <td>1142676</td>\n      <td>2</td>\n      <td>...</td>\n      <td>0.00</td>\n      <td>-  CV-4-7</td>\n      <td>0.0</td>\n      <td>B07</td>\n      <td>10160324</td>\n      <td>None</td>\n      <td>REJECTED</td>\n      <td>None</td>\n      <td>0</td>\n      <td>Approved</td>\n    </tr>\n    <tr>\n      <th>...</th>\n      <td>...</td>\n      <td>...</td>\n      <td>...</td>\n      <td>...</td>\n      <td>...</td>\n      <td>...</td>\n      <td>...</td>\n      <td>...</td>\n      <td>...</td>\n      <td>...</td>\n      <td>...</td>\n      <td>...</td>\n      <td>...</td>\n      <td>...</td>\n      <td>...</td>\n      <td>...</td>\n      <td>...</td>\n      <td>...</td>\n      <td>...</td>\n      <td>...</td>\n      <td>...</td>\n    </tr>\n    <tr>\n      <th>352722</th>\n      <td>2024-07-08 17:09:02</td>\n      <td>1300863-11</td>\n      <td>2024-06-13</td>\n      <td>Y</td>\n      <td>39</td>\n      <td>EMERGENCY ROOM SERVICES - طوارى</td>\n      <td>4.00</td>\n      <td>7060</td>\n      <td>1140965</td>\n      <td>11</td>\n      <td>...</td>\n      <td>4.99</td>\n      <td>Partial Approved  SE-1-6</td>\n      <td>0.0</td>\n      <td>J06.9</td>\n      <td>10164354</td>\n      <td>None</td>\n      <td>REJECTED</td>\n      <td>SE-1-6</td>\n      <td>0</td>\n      <td>Approved</td>\n    </tr>\n    <tr>\n      <th>352721</th>\n      <td>2024-07-08 17:09:02</td>\n      <td>1300863-11</td>\n      <td>2024-06-13</td>\n      <td>Y</td>\n      <td>39</td>\n      <td>EMERGENCY ROOM SERVICES - طوارى</td>\n      <td>4.00</td>\n      <td>7060</td>\n      <td>1140965</td>\n      <td>11</td>\n      <td>...</td>\n      <td>5.00</td>\n      <td>Partial Approved  SE-1-6</td>\n      <td>0.0</td>\n      <td>J06.9</td>\n      <td>10164354</td>\n      <td>None</td>\n      <td>REJECTED</td>\n      <td>SE-1-6</td>\n      <td>0</td>\n      <td>Approved</td>\n    </tr>\n    <tr>\n      <th>352720</th>\n      <td>2024-07-08 17:09:02</td>\n      <td>1300863-11</td>\n      <td>2024-06-13</td>\n      <td>Y</td>\n      <td>39</td>\n      <td>EMERGENCY ROOM SERVICES - طوارى</td>\n      <td>4.00</td>\n      <td>7060</td>\n      <td>1140965</td>\n      <td>11</td>\n      <td>...</td>\n      <td>5.04</td>\n      <td>Partial Approved  SE-1-6</td>\n      <td>0.0</td>\n      <td>J06.9</td>\n      <td>10164354</td>\n      <td>None</td>\n      <td>REJECTED</td>\n      <td>SE-1-6</td>\n      <td>0</td>\n      <td>Approved</td>\n    </tr>\n    <tr>\n      <th>352719</th>\n      <td>2024-07-08 17:09:02</td>\n      <td>1300863-11</td>\n      <td>2024-06-13</td>\n      <td>Y</td>\n      <td>39</td>\n      <td>EMERGENCY ROOM SERVICES - طوارى</td>\n      <td>4.00</td>\n      <td>7060</td>\n      <td>1140965</td>\n      <td>11</td>\n      <td>...</td>\n      <td>20.00</td>\n      <td>Partial Approved  SE-1-6</td>\n      <td>0.0</td>\n      <td>J06.9</td>\n      <td>10164354</td>\n      <td>None</td>\n      <td>REJECTED</td>\n      <td>SE-1-6</td>\n      <td>0</td>\n      <td>Rejected-Generally</td>\n    </tr>\n    <tr>\n      <th>352731</th>\n      <td>2024-07-08 17:09:02</td>\n      <td>1300863-11</td>\n      <td>2024-06-13</td>\n      <td>Y</td>\n      <td>39</td>\n      <td>EMERGENCY ROOM SERVICES - طوارى</td>\n      <td>4.00</td>\n      <td>7060</td>\n      <td>1140965</td>\n      <td>11</td>\n      <td>...</td>\n      <td>5.01</td>\n      <td>Partial Approved  SE-1-6</td>\n      <td>0.0</td>\n      <td>J06.9</td>\n      <td>10164354</td>\n      <td>None</td>\n      <td>REJECTED</td>\n      <td>SE-1-6</td>\n      <td>0</td>\n      <td>Approved</td>\n    </tr>\n  </tbody>\n</table>\n<p>64011 rows × 104 columns</p>\n</div>"
     },
     "execution_count": 40,
     "metadata": {},
     "output_type": "execute_result"
    }
   ],
   "source": [
    "df_test_preds"
   ],
   "metadata": {
    "collapsed": false,
    "ExecuteTime": {
     "end_time": "2024-09-16T13:12:13.321893200Z",
     "start_time": "2024-09-16T13:12:13.237130900Z"
    }
   }
  },
  {
   "cell_type": "code",
   "execution_count": 16,
   "outputs": [],
   "source": [
    "df_test.to_csv('predictions.csv',index=False)"
   ],
   "metadata": {
    "collapsed": false,
    "ExecuteTime": {
     "end_time": "2024-09-02T12:14:18.352854200Z",
     "start_time": "2024-09-02T12:14:14.466280300Z"
    }
   }
  },
  {
   "cell_type": "code",
   "execution_count": null,
   "outputs": [],
   "source": [],
   "metadata": {
    "collapsed": false
   }
  }
 ],
 "metadata": {
  "kernelspec": {
   "display_name": "Python 3",
   "language": "python",
   "name": "python3"
  },
  "language_info": {
   "codemirror_mode": {
    "name": "ipython",
    "version": 2
   },
   "file_extension": ".py",
   "mimetype": "text/x-python",
   "name": "python",
   "nbconvert_exporter": "python",
   "pygments_lexer": "ipython2",
   "version": "2.7.6"
  }
 },
 "nbformat": 4,
 "nbformat_minor": 0
}
