{
 "cells": [
  {
   "cell_type": "code",
   "execution_count": 1,
   "metadata": {
    "collapsed": true,
    "ExecuteTime": {
     "end_time": "2024-09-17T13:11:25.820522500Z",
     "start_time": "2024-09-17T13:11:12.931623900Z"
    }
   },
   "outputs": [],
   "source": [
    "from src.utilities_rejection import RejectionReasonLabeling, label_reasons, label_reasons_column\n",
    "from cashe import get_train_test_cashe, get_training_inputs, drop_nomodel_columns\n",
    "from src.data_local import MergedDataPreprocessing\n",
    "from src.model_train import ModelsSearchEngine\n",
    "from src.model_app import ModelApplication\n",
    "from src.lstm_encoder import LSTMEmbedding\n",
    "from src.model_train import XGBoostTuning"
   ]
  },
  {
   "cell_type": "code",
   "execution_count": 2,
   "outputs": [
    {
     "name": "stdout",
     "output_type": "stream",
     "text": [
      "data is labeled with medical reason, and the billing reason\n",
      "data is loaded successfully\n",
      "data is preprocessed numerically\n"
     ]
    }
   ],
   "source": [
    "df_train, df_test = get_train_test_cashe(date_day='31-08',drop_duplicates=False) ## No need to drop duplicates again\n",
    "#reasons = ['MN-1-1','SE-1-6','CV-1-1','BE-1-6','BE-1-7']\n",
    "reasons = ['MN-1-1']\n",
    "\n",
    "train_rej = RejectionReasonLabeling(df_train)\n",
    "train_rej.recoginze_label()\n",
    "train_rej = RejectionReasonLabeling(df_test)\n",
    "train_rej.recoginze_label()\n",
    "\n",
    "df_train, df_test = label_reasons(df_train,df_test,reasons)\n",
    "\n",
    "print('data is labeled with medical reason, and the billing reason')\n",
    "X_train, y_train, X_test, y_test = get_training_inputs(df_train, df_test)\n",
    "y_train.loc[:, 'NPHIES_LABEL'] = df_train['NPHIES_LABEL'].tolist()\n",
    "y_test.loc[:, 'NPHIES_LABEL'] = df_test['NPHIES_LABEL'].tolist()\n",
    "\n",
    "X_train.drop(columns=['NPHIES_CODE'],inplace=True); X_test.drop(columns=['NPHIES_CODE'],inplace=True)\n",
    "\n",
    "print('data is loaded successfully')\n",
    "preprocessing_train = MergedDataPreprocessing(X_train)\n",
    "X_train_prep = preprocessing_train.columns_prep()\n",
    "\n",
    "preprocessing_test = MergedDataPreprocessing(X_test)\n",
    "X_test_prep = preprocessing_test.columns_prep()\n",
    "print('data is preprocessed numerically')"
   ],
   "metadata": {
    "collapsed": false,
    "ExecuteTime": {
     "end_time": "2024-09-17T13:11:32.831545100Z",
     "start_time": "2024-09-17T13:11:25.824510800Z"
    }
   }
  },
  {
   "cell_type": "code",
   "execution_count": 3,
   "outputs": [
    {
     "name": "stdout",
     "output_type": "stream",
     "text": [
      "data is encoded\n"
     ]
    }
   ],
   "source": [
    "lstm_embedding = LSTMEmbedding()\n",
    "\n",
    "X_train_encoded = preprocessing_train.column_embedding(X_train_prep)\n",
    "X_test_encoded = preprocessing_train.column_embedding(X_test_prep)\n",
    "\n",
    "X_train = drop_nomodel_columns(X_train_encoded)\n",
    "X_test  = drop_nomodel_columns(X_test_encoded)\n",
    "print('data is encoded')"
   ],
   "metadata": {
    "collapsed": false,
    "ExecuteTime": {
     "end_time": "2024-09-17T13:11:56.462099800Z",
     "start_time": "2024-09-17T13:11:32.836531400Z"
    }
   }
  },
  {
   "cell_type": "code",
   "execution_count": 4,
   "outputs": [],
   "source": [
    "#X_train.to_parquet('train.parquet'); X_test.to_parquet('test.parquet'); y_train.to_parquet('y_train.parquet'); y_test.to_parquet('y_test.parquet')"
   ],
   "metadata": {
    "collapsed": false,
    "ExecuteTime": {
     "end_time": "2024-09-17T13:11:56.506882100Z",
     "start_time": "2024-09-17T13:11:56.464094800Z"
    }
   }
  },
  {
   "cell_type": "code",
   "execution_count": 5,
   "outputs": [],
   "source": [
    "outcomes_train = label_reasons_column(y_train);  outcomes_test  = label_reasons_column(y_test)\n",
    "\n",
    "y_train = y_train.copy();  y_test = y_test.copy()\n",
    "y_train.loc[:, 'OUTCOME_MERGED'] = outcomes_train;  y_test.loc[:, 'OUTCOME_MERGED'] = outcomes_test"
   ],
   "metadata": {
    "collapsed": false,
    "ExecuteTime": {
     "end_time": "2024-09-17T13:12:01.619275200Z",
     "start_time": "2024-09-17T13:11:56.482584Z"
    }
   }
  },
  {
   "cell_type": "markdown",
   "source": [
    "## Choose a model"
   ],
   "metadata": {
    "collapsed": false
   }
  },
  {
   "cell_type": "code",
   "execution_count": 9,
   "outputs": [
    {
     "name": "stdout",
     "output_type": "stream",
     "text": [
      "[LightGBM] [Info] Total Bins 8530\n",
      "[LightGBM] [Info] Number of data points in the train set: 256043, number of used features: 74\n",
      "[LightGBM] [Info] Start training from score -0.951246\n",
      "[LightGBM] [Info] Start training from score -0.676750\n",
      "[LightGBM] [Info] Start training from score -2.249286\n",
      "\n",
      "\n",
      "LightGBM, Decision Tree, SGD and Neural Network are trained on dataset.\n"
     ]
    }
   ],
   "source": [
    "X_train.fillna(0,inplace=True)\n",
    "X_test.fillna(0,inplace=True)\n",
    "\n",
    "model_trial = ModelsSearchEngine(X_train=X_train,y_train=y_train['OUTCOME_MERGED'],\n",
    "                            X_test=X_test,y_test=y_test['OUTCOME_MERGED'])\n",
    "\n",
    "model_trial.train_models()"
   ],
   "metadata": {
    "collapsed": false,
    "ExecuteTime": {
     "end_time": "2024-09-16T14:04:55.698782500Z",
     "start_time": "2024-09-16T13:53:17.174709700Z"
    }
   }
  },
  {
   "cell_type": "code",
   "execution_count": 10,
   "outputs": [
    {
     "name": "stderr",
     "output_type": "stream",
     "text": [
      "E:\\Projects\\Claims_Deployment\\venv\\lib\\site-packages\\sklearn\\metrics\\_classification.py:1509: UndefinedMetricWarning: Precision is ill-defined and being set to 0.0 in labels with no predicted samples. Use `zero_division` parameter to control this behavior.\n",
      "  _warn_prf(average, modifier, f\"{metric.capitalize()} is\", len(result))\n"
     ]
    },
    {
     "data": {
      "text/plain": "{'Decision Tree': {'Accuracy': 0.63,\n  'Precision': 0.64,\n  'Recall': 0.63,\n  'F1 Score': 0.63},\n 'LightGBM': {'Accuracy': 0.68,\n  'Precision': 0.68,\n  'Recall': 0.68,\n  'F1 Score': 0.68},\n 'SGD Classifier': {'Accuracy': 0.61,\n  'Precision': 0.57,\n  'Recall': 0.61,\n  'F1 Score': 0.59},\n 'XGBoost': {'Accuracy': 0.69,\n  'Precision': 0.69,\n  'Recall': 0.69,\n  'F1 Score': 0.69},\n 'Neural Network': {'Accuracy': 0.61,\n  'Precision': 0.56,\n  'Recall': 0.61,\n  'F1 Score': 0.59}}"
     },
     "execution_count": 10,
     "metadata": {},
     "output_type": "execute_result"
    }
   ],
   "source": [
    "result_analysis = model_trial.evaluate_models()\n",
    "result_analysis"
   ],
   "metadata": {
    "collapsed": false,
    "ExecuteTime": {
     "end_time": "2024-09-16T14:04:57.310199800Z",
     "start_time": "2024-09-16T14:04:55.701774300Z"
    }
   }
  },
  {
   "cell_type": "markdown",
   "source": [
    "## Tune XGB"
   ],
   "metadata": {
    "collapsed": false
   }
  },
  {
   "cell_type": "code",
   "execution_count": 31,
   "outputs": [
    {
     "name": "stdout",
     "output_type": "stream",
     "text": [
      "Trying parameters: {'n_estimators': 150, 'max_depth': 11, 'learning_rate': 0.1, 'subsample': 0.9} | F1 Score: 0.7010\n",
      "Trying parameters: {'n_estimators': 150, 'max_depth': 11, 'learning_rate': 0.2, 'subsample': 0.9} | F1 Score: 0.7025\n",
      "Trying parameters: {'n_estimators': 150, 'max_depth': 11, 'learning_rate': 0.3, 'subsample': 0.9} | F1 Score: 0.7025\n",
      "Trying parameters: {'n_estimators': 150, 'max_depth': 13, 'learning_rate': 0.1, 'subsample': 0.9} | F1 Score: 0.7051\n",
      "Trying parameters: {'n_estimators': 150, 'max_depth': 13, 'learning_rate': 0.2, 'subsample': 0.9} | F1 Score: 0.7053\n",
      "Trying parameters: {'n_estimators': 150, 'max_depth': 13, 'learning_rate': 0.3, 'subsample': 0.9} | F1 Score: 0.7035\n",
      "Trying parameters: {'n_estimators': 150, 'max_depth': 15, 'learning_rate': 0.1, 'subsample': 0.9} | F1 Score: 0.7059\n",
      "Trying parameters: {'n_estimators': 150, 'max_depth': 15, 'learning_rate': 0.2, 'subsample': 0.9} | F1 Score: 0.7062\n",
      "Trying parameters: {'n_estimators': 150, 'max_depth': 15, 'learning_rate': 0.3, 'subsample': 0.9} | F1 Score: 0.7024\n",
      "Trying parameters: {'n_estimators': 150, 'max_depth': 18, 'learning_rate': 0.1, 'subsample': 0.9} | F1 Score: 0.7056\n",
      "Trying parameters: {'n_estimators': 150, 'max_depth': 18, 'learning_rate': 0.2, 'subsample': 0.9} | F1 Score: 0.7046\n"
     ]
    },
    {
     "name": "stderr",
     "output_type": "stream",
     "text": [
      "Exception ignored on calling ctypes callback function: <bound method DataIter._next_wrapper of <xgboost.data.SingleBatchInternalIter object at 0x0000020525569310>>\n",
      "Traceback (most recent call last):\n",
      "  File \"E:\\Projects\\Claims_Deployment\\venv\\lib\\site-packages\\xgboost\\core.py\", line 641, in _next_wrapper\n",
      "    return self._handle_exception(lambda: self.next(input_data), 0)\n",
      "  File \"E:\\Projects\\Claims_Deployment\\venv\\lib\\site-packages\\xgboost\\core.py\", line 557, in _handle_exception\n",
      "    return fn()\n",
      "  File \"E:\\Projects\\Claims_Deployment\\venv\\lib\\site-packages\\xgboost\\core.py\", line 641, in <lambda>\n",
      "    return self._handle_exception(lambda: self.next(input_data), 0)\n",
      "  File \"E:\\Projects\\Claims_Deployment\\venv\\lib\\site-packages\\xgboost\\data.py\", line 1280, in next\n",
      "    input_data(**self.kwargs)\n",
      "  File \"E:\\Projects\\Claims_Deployment\\venv\\lib\\site-packages\\xgboost\\core.py\", line 730, in inner_f\n",
      "    return func(**kwargs)\n",
      "  File \"E:\\Projects\\Claims_Deployment\\venv\\lib\\site-packages\\xgboost\\core.py\", line 624, in input_data\n",
      "    new, cat_codes, feature_names, feature_types = _proxy_transform(\n",
      "  File \"E:\\Projects\\Claims_Deployment\\venv\\lib\\site-packages\\xgboost\\data.py\", line 1315, in _proxy_transform\n",
      "    arr, feature_names, feature_types = _transform_pandas_df(\n",
      "  File \"E:\\Projects\\Claims_Deployment\\venv\\lib\\site-packages\\xgboost\\data.py\", line 508, in _transform_pandas_df\n",
      "    arr: np.ndarray = transformed.values\n",
      "  File \"E:\\Projects\\Claims_Deployment\\venv\\lib\\site-packages\\pandas\\core\\frame.py\", line 12664, in values\n",
      "    return self._mgr.as_array()\n",
      "  File \"E:\\Projects\\Claims_Deployment\\venv\\lib\\site-packages\\pandas\\core\\internals\\managers.py\", line 1694, in as_array\n",
      "    arr = self._interleave(dtype=dtype, na_value=na_value)\n",
      "  File \"E:\\Projects\\Claims_Deployment\\venv\\lib\\site-packages\\pandas\\core\\internals\\managers.py\", line 1753, in _interleave\n",
      "    result[rl.indexer] = arr\n",
      "KeyboardInterrupt: \n",
      "\n",
      "KeyboardInterrupt\n",
      "\n"
     ]
    }
   ],
   "source": [
    "param_grid = {\n",
    "    'n_estimators': [100,150,200],\n",
    "    'max_depth': [9,11],\n",
    "    'learning_rate': [0.1, 0.2, 0.3, 0.4, 0.5],\n",
    "    'subsample': [ 0.9, 1.0]     }\n",
    "\n",
    "param_grid = {\n",
    "    'n_estimators': [150,200],\n",
    "    'max_depth': [11,13,15,18],\n",
    "    'learning_rate': [0.1, 0.2, 0.3],\n",
    "    'subsample': [ 0.9]   }\n",
    "\n",
    "trainer = XGBoostTuning(X_train, y_train['OUTCOME_MERGED'], X_test, y_test['OUTCOME_MERGED'])\n",
    "best_model, best_params, best_score = trainer.train_and_evaluate(param_grid)\n",
    "\n",
    "trainer.save_results(file_path='drafts/Reports/2024_09_11/xgboost_parameters.xlsx')"
   ],
   "metadata": {
    "collapsed": false,
    "ExecuteTime": {
     "end_time": "2024-09-16T11:30:06.006978100Z",
     "start_time": "2024-09-16T11:15:51.358060100Z"
    }
   }
  },
  {
   "cell_type": "markdown",
   "source": [
    "## Train XGB"
   ],
   "metadata": {
    "collapsed": false
   }
  },
  {
   "cell_type": "code",
   "execution_count": 6,
   "outputs": [
    {
     "name": "stdout",
     "output_type": "stream",
     "text": [
      "Training is done\n",
      "Multi-Class Classifier metrics calculation\n"
     ]
    },
    {
     "data": {
      "text/plain": "{'XGBoost': {'Accuracy': 0.68,\n  'Precision': 0.68,\n  'Recall': 0.68,\n  'F1 Score': 0.68}}"
     },
     "execution_count": 6,
     "metadata": {},
     "output_type": "execute_result"
    }
   ],
   "source": [
    "model_runner = ModelApplication(X_train= X_train,y_train= y_train['OUTCOME_MERGED'],\n",
    "                                X_test= X_test,y_test= y_test['OUTCOME_MERGED'])\n",
    "\n",
    "model_runner.get_model(force_retrain=True)\n",
    "model_runner.evaluate_model()"
   ],
   "metadata": {
    "collapsed": false,
    "ExecuteTime": {
     "end_time": "2024-09-17T13:12:09.937936100Z",
     "start_time": "2024-09-17T13:12:01.623265500Z"
    }
   }
  },
  {
   "cell_type": "code",
   "execution_count": 8,
   "outputs": [
    {
     "name": "stdout",
     "output_type": "stream",
     "text": [
      "              precision    recall  f1-score   support\n",
      "\n",
      "           0       0.63      0.74      0.68     24319\n",
      "           1       0.79      0.67      0.73     35707\n",
      "           2       0.31      0.40      0.35      3985\n",
      "\n",
      "    accuracy                           0.68     64011\n",
      "   macro avg       0.58      0.61      0.59     64011\n",
      "weighted avg       0.70      0.68      0.69     64011\n",
      "\n"
     ]
    }
   ],
   "source": [
    "from sklearn.metrics import classification_report\n",
    "\n",
    "PREDS = list(model_runner.model_predict(X_test))\n",
    "REPORT = classification_report(PREDS, y_test['OUTCOME_MERGED'])\n",
    "print(REPORT)"
   ],
   "metadata": {
    "collapsed": false,
    "ExecuteTime": {
     "end_time": "2024-09-17T13:15:19.320097700Z",
     "start_time": "2024-09-17T13:15:19.044031800Z"
    }
   }
  },
  {
   "cell_type": "code",
   "execution_count": 9,
   "outputs": [
    {
     "name": "stderr",
     "output_type": "stream",
     "text": [
      "C:\\Users\\omar.mounir\\AppData\\Local\\Temp\\ipykernel_14568\\3899507444.py:9: SettingWithCopyWarning: \n",
      "A value is trying to be set on a copy of a slice from a DataFrame.\n",
      "Try using .loc[row_indexer,col_indexer] = value instead\n",
      "\n",
      "See the caveats in the documentation: https://pandas.pydata.org/pandas-docs/stable/user_guide/indexing.html#returning-a-view-versus-a-copy\n",
      "  df_test_preds['PREDICTIONS'] = PREDS_DECODED\n"
     ]
    }
   ],
   "source": [
    "def get_output_test_set(df_test):\n",
    "    apply_dict = {0:'Rejected-Generally',1:\"Approved\",2:\"Rejected-Medically\"}\n",
    "    PREDS = list(model_runner.model_predict(X_test))\n",
    "    PREDS_DECODED = [apply_dict.get(item, item) for item in PREDS]\n",
    "\n",
    "    last_three_columns = ['OUTCOME', 'NPHIES_CODE', 'NPHIES_LABEL']\n",
    "    other_columns = [col for col in df_test.columns if col not in last_three_columns]\n",
    "    df_test_preds = df_test[other_columns + last_three_columns]\n",
    "    df_test_preds['PREDICTIONS'] = PREDS_DECODED\n",
    "    return df_test_preds\n",
    "\n",
    "df_test_preds = get_output_test_set(df_test)"
   ],
   "metadata": {
    "collapsed": false,
    "ExecuteTime": {
     "end_time": "2024-09-17T13:15:20.145991200Z",
     "start_time": "2024-09-17T13:15:19.820823400Z"
    }
   }
  },
  {
   "cell_type": "code",
   "execution_count": 40,
   "outputs": [
    {
     "data": {
      "text/plain": "              REQUEST_DATE    VISIT_NO VISIT_DATE EMERGENCY_INDICATOR  \\\n365589 2024-06-02 21:59:23   1149844-2 2024-05-29                   N   \n305745 2024-06-02 21:59:29   1302668-2 2024-05-18                   N   \n305744 2024-06-02 21:59:29   1302668-2 2024-05-18                   N   \n307086 2024-06-02 21:59:29   1302668-2 2024-05-18                   N   \n307088 2024-06-02 21:59:29   1302668-2 2024-05-18                   N   \n...                    ...         ...        ...                 ...   \n352722 2024-07-08 17:09:02  1300863-11 2024-06-13                   Y   \n352721 2024-07-08 17:09:02  1300863-11 2024-06-13                   Y   \n352720 2024-07-08 17:09:02  1300863-11 2024-06-13                   Y   \n352719 2024-07-08 17:09:02  1300863-11 2024-06-13                   Y   \n352731 2024-07-08 17:09:02  1300863-11 2024-06-13                   Y   \n\n        PROVIDER_DEPARTMENT_CODE                     PROVIDER_DEPARTMENT  \\\n365589                        21            ORTHOPAEDIC SERVICE - العظام   \n305745                         5  DERMATOLOGY & VENEREOLOGY SERV - جلدية   \n305744                         5  DERMATOLOGY & VENEREOLOGY SERV - جلدية   \n307086                         5  DERMATOLOGY & VENEREOLOGY SERV - جلدية   \n307088                         5  DERMATOLOGY & VENEREOLOGY SERV - جلدية   \n...                          ...                                     ...   \n352722                        39         EMERGENCY ROOM SERVICES - طوارى   \n352721                        39         EMERGENCY ROOM SERVICES - طوارى   \n352720                        39         EMERGENCY ROOM SERVICES - طوارى   \n352719                        39         EMERGENCY ROOM SERVICES - طوارى   \n352731                        39         EMERGENCY ROOM SERVICES - طوارى   \n\n        DOCTOR_SPECIALTY_CODE  DOCTOR_CODE  PATIENT_NO  EPISODE_NO  ...  \\\n365589                  22.05         4946      997446           2  ...   \n305745                   3.00         9501     1142676           2  ...   \n305744                   3.00         9501     1142676           2  ...   \n307086                   3.00         9501     1142676           2  ...   \n307088                   3.00         9501     1142676           2  ...   \n...                       ...          ...         ...         ...  ...   \n352722                   4.00         7060     1140965          11  ...   \n352721                   4.00         7060     1140965          11  ...   \n352720                   4.00         7060     1140965          11  ...   \n352719                   4.00         7060     1140965          11  ...   \n352731                   4.00         7060     1140965          11  ...   \n\n        DISCOUNT_PERCENTAGE                       NOTES  APPROVED_QUNATITY  \\\n365589                 0.00                       -                    1.0   \n305745                 6.99                 -  BE-1-7                  0.0   \n305744                30.00                       -                    1.0   \n307086                 0.00                 -  CV-4-7                  0.0   \n307088                 0.00                 -  CV-4-7                  0.0   \n...                     ...                         ...                ...   \n352722                 4.99  Partial Approved  SE-1-6                  0.0   \n352721                 5.00  Partial Approved  SE-1-6                  0.0   \n352720                 5.04  Partial Approved  SE-1-6                  0.0   \n352719                20.00  Partial Approved  SE-1-6                  0.0   \n352731                 5.01  Partial Approved  SE-1-6                  0.0   \n\n        ICD10 Diagnosis_Key  \\\n365589  M75.0     110209631   \n305745    B07      10160324   \n305744    B07      10160324   \n307086    B07      10160324   \n307088    B07      10160324   \n...       ...           ...   \n352722  J06.9      10164354   \n352721  J06.9      10164354   \n352720  J06.9      10164354   \n352719  J06.9      10164354   \n352731  J06.9      10164354   \n\n                                          Chief_Complaint   OUTCOME  \\\n365589  left shoulder pain no truma 1w over use during...  APPROVED   \n305745                                               None  REJECTED   \n305744                                               None  APPROVED   \n307086                                               None  REJECTED   \n307088                                               None  REJECTED   \n...                                                   ...       ...   \n352722                                               None  REJECTED   \n352721                                               None  REJECTED   \n352720                                               None  REJECTED   \n352719                                               None  REJECTED   \n352731                                               None  REJECTED   \n\n       NPHIES_CODE NPHIES_LABEL         PREDICTIONS  \n365589        None            0            Approved  \n305745      BE-1-7            0            Approved  \n305744        None            0            Approved  \n307086        None            0            Approved  \n307088        None            0            Approved  \n...            ...          ...                 ...  \n352722      SE-1-6            0            Approved  \n352721      SE-1-6            0            Approved  \n352720      SE-1-6            0            Approved  \n352719      SE-1-6            0  Rejected-Generally  \n352731      SE-1-6            0            Approved  \n\n[64011 rows x 104 columns]",
      "text/html": "<div>\n<style scoped>\n    .dataframe tbody tr th:only-of-type {\n        vertical-align: middle;\n    }\n\n    .dataframe tbody tr th {\n        vertical-align: top;\n    }\n\n    .dataframe thead th {\n        text-align: right;\n    }\n</style>\n<table border=\"1\" class=\"dataframe\">\n  <thead>\n    <tr style=\"text-align: right;\">\n      <th></th>\n      <th>REQUEST_DATE</th>\n      <th>VISIT_NO</th>\n      <th>VISIT_DATE</th>\n      <th>EMERGENCY_INDICATOR</th>\n      <th>PROVIDER_DEPARTMENT_CODE</th>\n      <th>PROVIDER_DEPARTMENT</th>\n      <th>DOCTOR_SPECIALTY_CODE</th>\n      <th>DOCTOR_CODE</th>\n      <th>PATIENT_NO</th>\n      <th>EPISODE_NO</th>\n      <th>...</th>\n      <th>DISCOUNT_PERCENTAGE</th>\n      <th>NOTES</th>\n      <th>APPROVED_QUNATITY</th>\n      <th>ICD10</th>\n      <th>Diagnosis_Key</th>\n      <th>Chief_Complaint</th>\n      <th>OUTCOME</th>\n      <th>NPHIES_CODE</th>\n      <th>NPHIES_LABEL</th>\n      <th>PREDICTIONS</th>\n    </tr>\n  </thead>\n  <tbody>\n    <tr>\n      <th>365589</th>\n      <td>2024-06-02 21:59:23</td>\n      <td>1149844-2</td>\n      <td>2024-05-29</td>\n      <td>N</td>\n      <td>21</td>\n      <td>ORTHOPAEDIC SERVICE - العظام</td>\n      <td>22.05</td>\n      <td>4946</td>\n      <td>997446</td>\n      <td>2</td>\n      <td>...</td>\n      <td>0.00</td>\n      <td>-</td>\n      <td>1.0</td>\n      <td>M75.0</td>\n      <td>110209631</td>\n      <td>left shoulder pain no truma 1w over use during...</td>\n      <td>APPROVED</td>\n      <td>None</td>\n      <td>0</td>\n      <td>Approved</td>\n    </tr>\n    <tr>\n      <th>305745</th>\n      <td>2024-06-02 21:59:29</td>\n      <td>1302668-2</td>\n      <td>2024-05-18</td>\n      <td>N</td>\n      <td>5</td>\n      <td>DERMATOLOGY &amp; VENEREOLOGY SERV - جلدية</td>\n      <td>3.00</td>\n      <td>9501</td>\n      <td>1142676</td>\n      <td>2</td>\n      <td>...</td>\n      <td>6.99</td>\n      <td>-  BE-1-7</td>\n      <td>0.0</td>\n      <td>B07</td>\n      <td>10160324</td>\n      <td>None</td>\n      <td>REJECTED</td>\n      <td>BE-1-7</td>\n      <td>0</td>\n      <td>Approved</td>\n    </tr>\n    <tr>\n      <th>305744</th>\n      <td>2024-06-02 21:59:29</td>\n      <td>1302668-2</td>\n      <td>2024-05-18</td>\n      <td>N</td>\n      <td>5</td>\n      <td>DERMATOLOGY &amp; VENEREOLOGY SERV - جلدية</td>\n      <td>3.00</td>\n      <td>9501</td>\n      <td>1142676</td>\n      <td>2</td>\n      <td>...</td>\n      <td>30.00</td>\n      <td>-</td>\n      <td>1.0</td>\n      <td>B07</td>\n      <td>10160324</td>\n      <td>None</td>\n      <td>APPROVED</td>\n      <td>None</td>\n      <td>0</td>\n      <td>Approved</td>\n    </tr>\n    <tr>\n      <th>307086</th>\n      <td>2024-06-02 21:59:29</td>\n      <td>1302668-2</td>\n      <td>2024-05-18</td>\n      <td>N</td>\n      <td>5</td>\n      <td>DERMATOLOGY &amp; VENEREOLOGY SERV - جلدية</td>\n      <td>3.00</td>\n      <td>9501</td>\n      <td>1142676</td>\n      <td>2</td>\n      <td>...</td>\n      <td>0.00</td>\n      <td>-  CV-4-7</td>\n      <td>0.0</td>\n      <td>B07</td>\n      <td>10160324</td>\n      <td>None</td>\n      <td>REJECTED</td>\n      <td>None</td>\n      <td>0</td>\n      <td>Approved</td>\n    </tr>\n    <tr>\n      <th>307088</th>\n      <td>2024-06-02 21:59:29</td>\n      <td>1302668-2</td>\n      <td>2024-05-18</td>\n      <td>N</td>\n      <td>5</td>\n      <td>DERMATOLOGY &amp; VENEREOLOGY SERV - جلدية</td>\n      <td>3.00</td>\n      <td>9501</td>\n      <td>1142676</td>\n      <td>2</td>\n      <td>...</td>\n      <td>0.00</td>\n      <td>-  CV-4-7</td>\n      <td>0.0</td>\n      <td>B07</td>\n      <td>10160324</td>\n      <td>None</td>\n      <td>REJECTED</td>\n      <td>None</td>\n      <td>0</td>\n      <td>Approved</td>\n    </tr>\n    <tr>\n      <th>...</th>\n      <td>...</td>\n      <td>...</td>\n      <td>...</td>\n      <td>...</td>\n      <td>...</td>\n      <td>...</td>\n      <td>...</td>\n      <td>...</td>\n      <td>...</td>\n      <td>...</td>\n      <td>...</td>\n      <td>...</td>\n      <td>...</td>\n      <td>...</td>\n      <td>...</td>\n      <td>...</td>\n      <td>...</td>\n      <td>...</td>\n      <td>...</td>\n      <td>...</td>\n      <td>...</td>\n    </tr>\n    <tr>\n      <th>352722</th>\n      <td>2024-07-08 17:09:02</td>\n      <td>1300863-11</td>\n      <td>2024-06-13</td>\n      <td>Y</td>\n      <td>39</td>\n      <td>EMERGENCY ROOM SERVICES - طوارى</td>\n      <td>4.00</td>\n      <td>7060</td>\n      <td>1140965</td>\n      <td>11</td>\n      <td>...</td>\n      <td>4.99</td>\n      <td>Partial Approved  SE-1-6</td>\n      <td>0.0</td>\n      <td>J06.9</td>\n      <td>10164354</td>\n      <td>None</td>\n      <td>REJECTED</td>\n      <td>SE-1-6</td>\n      <td>0</td>\n      <td>Approved</td>\n    </tr>\n    <tr>\n      <th>352721</th>\n      <td>2024-07-08 17:09:02</td>\n      <td>1300863-11</td>\n      <td>2024-06-13</td>\n      <td>Y</td>\n      <td>39</td>\n      <td>EMERGENCY ROOM SERVICES - طوارى</td>\n      <td>4.00</td>\n      <td>7060</td>\n      <td>1140965</td>\n      <td>11</td>\n      <td>...</td>\n      <td>5.00</td>\n      <td>Partial Approved  SE-1-6</td>\n      <td>0.0</td>\n      <td>J06.9</td>\n      <td>10164354</td>\n      <td>None</td>\n      <td>REJECTED</td>\n      <td>SE-1-6</td>\n      <td>0</td>\n      <td>Approved</td>\n    </tr>\n    <tr>\n      <th>352720</th>\n      <td>2024-07-08 17:09:02</td>\n      <td>1300863-11</td>\n      <td>2024-06-13</td>\n      <td>Y</td>\n      <td>39</td>\n      <td>EMERGENCY ROOM SERVICES - طوارى</td>\n      <td>4.00</td>\n      <td>7060</td>\n      <td>1140965</td>\n      <td>11</td>\n      <td>...</td>\n      <td>5.04</td>\n      <td>Partial Approved  SE-1-6</td>\n      <td>0.0</td>\n      <td>J06.9</td>\n      <td>10164354</td>\n      <td>None</td>\n      <td>REJECTED</td>\n      <td>SE-1-6</td>\n      <td>0</td>\n      <td>Approved</td>\n    </tr>\n    <tr>\n      <th>352719</th>\n      <td>2024-07-08 17:09:02</td>\n      <td>1300863-11</td>\n      <td>2024-06-13</td>\n      <td>Y</td>\n      <td>39</td>\n      <td>EMERGENCY ROOM SERVICES - طوارى</td>\n      <td>4.00</td>\n      <td>7060</td>\n      <td>1140965</td>\n      <td>11</td>\n      <td>...</td>\n      <td>20.00</td>\n      <td>Partial Approved  SE-1-6</td>\n      <td>0.0</td>\n      <td>J06.9</td>\n      <td>10164354</td>\n      <td>None</td>\n      <td>REJECTED</td>\n      <td>SE-1-6</td>\n      <td>0</td>\n      <td>Rejected-Generally</td>\n    </tr>\n    <tr>\n      <th>352731</th>\n      <td>2024-07-08 17:09:02</td>\n      <td>1300863-11</td>\n      <td>2024-06-13</td>\n      <td>Y</td>\n      <td>39</td>\n      <td>EMERGENCY ROOM SERVICES - طوارى</td>\n      <td>4.00</td>\n      <td>7060</td>\n      <td>1140965</td>\n      <td>11</td>\n      <td>...</td>\n      <td>5.01</td>\n      <td>Partial Approved  SE-1-6</td>\n      <td>0.0</td>\n      <td>J06.9</td>\n      <td>10164354</td>\n      <td>None</td>\n      <td>REJECTED</td>\n      <td>SE-1-6</td>\n      <td>0</td>\n      <td>Approved</td>\n    </tr>\n  </tbody>\n</table>\n<p>64011 rows × 104 columns</p>\n</div>"
     },
     "execution_count": 40,
     "metadata": {},
     "output_type": "execute_result"
    }
   ],
   "source": [
    "df_test_preds"
   ],
   "metadata": {
    "collapsed": false,
    "ExecuteTime": {
     "end_time": "2024-09-16T13:12:13.321893200Z",
     "start_time": "2024-09-16T13:12:13.237130900Z"
    }
   }
  },
  {
   "cell_type": "code",
   "execution_count": 16,
   "outputs": [],
   "source": [
    "df_test.to_csv('predictions.csv',index=False)"
   ],
   "metadata": {
    "collapsed": false,
    "ExecuteTime": {
     "end_time": "2024-09-02T12:14:18.352854200Z",
     "start_time": "2024-09-02T12:14:14.466280300Z"
    }
   }
  },
  {
   "cell_type": "code",
   "execution_count": 33,
   "outputs": [],
   "source": [],
   "metadata": {
    "collapsed": false,
    "ExecuteTime": {
     "end_time": "2024-09-05T14:06:49.170204700Z",
     "start_time": "2024-09-05T14:06:49.154693900Z"
    }
   }
  },
  {
   "cell_type": "code",
   "execution_count": null,
   "outputs": [],
   "source": [],
   "metadata": {
    "collapsed": false
   }
  }
 ],
 "metadata": {
  "kernelspec": {
   "display_name": "Python 3",
   "language": "python",
   "name": "python3"
  },
  "language_info": {
   "codemirror_mode": {
    "name": "ipython",
    "version": 2
   },
   "file_extension": ".py",
   "mimetype": "text/x-python",
   "name": "python",
   "nbconvert_exporter": "python",
   "pygments_lexer": "ipython2",
   "version": "2.7.6"
  }
 },
 "nbformat": 4,
 "nbformat_minor": 0
}
