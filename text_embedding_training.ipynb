{
 "cells": [
  {
   "cell_type": "code",
   "execution_count": 1,
   "metadata": {
    "collapsed": true,
    "ExecuteTime": {
     "end_time": "2024-09-22T09:49:26.515031900Z",
     "start_time": "2024-09-22T09:49:13.672835200Z"
    }
   },
   "outputs": [],
   "source": [
    "from src.utilities_rejection import RejectionReasonLabeling, label_reasons, label_reasons_column\n",
    "from src.data_local import MergedDataPreprocessing\n",
    "from src.lstm_encoder import LSTMEmbedding\n",
    "from src.model_train import encode_label\n",
    "from cashe import get_cashed_input\n",
    "import numpy as np\n",
    "import time"
   ]
  },
  {
   "cell_type": "code",
   "execution_count": 24,
   "outputs": [],
   "source": [
    "df_original = get_cashed_input()\n",
    "\n",
    "df_original = df_original[['VISIT_ID','CREATION_DATE','NOTES', 'OASIS_IOS_DESCRIPTION', 'SERVICE_TYPE','UNIT', 'UNIT_TYPE','TIMES','PER', 'PROVIDER_DEPARTMENT','ICD10','Chief_Complaint','OUTCOME']]"
   ],
   "metadata": {
    "collapsed": false,
    "ExecuteTime": {
     "end_time": "2024-09-22T10:54:29.748317800Z",
     "start_time": "2024-09-22T10:54:13.075034200Z"
    }
   }
  },
  {
   "cell_type": "code",
   "execution_count": 25,
   "outputs": [],
   "source": [
    "preprocessing = MergedDataPreprocessing(df_original)\n",
    "preprocessing.fast_icd_encode()\n",
    "\n",
    "df_train, df_test = preprocessing.train_test_split_time()"
   ],
   "metadata": {
    "collapsed": false,
    "ExecuteTime": {
     "end_time": "2024-09-22T10:55:00.739386900Z",
     "start_time": "2024-09-22T10:55:00.413150700Z"
    }
   }
  },
  {
   "cell_type": "code",
   "execution_count": 28,
   "outputs": [
    {
     "name": "stderr",
     "output_type": "stream",
     "text": [
      "C:\\Users\\omar.mounir\\AppData\\Local\\Temp\\ipykernel_9080\\788751095.py:6: SettingWithCopyWarning: \n",
      "A value is trying to be set on a copy of a slice from a DataFrame.\n",
      "Try using .loc[row_indexer,col_indexer] = value instead\n",
      "\n",
      "See the caveats in the documentation: https://pandas.pydata.org/pandas-docs/stable/user_guide/indexing.html#returning-a-view-versus-a-copy\n",
      "  y_train['OUTCOME'] = encode_label(y_train.OUTCOME.tolist()); y_test['OUTCOME'] = encode_label(y_test.OUTCOME.tolist())\n"
     ]
    }
   ],
   "source": [
    "train_columns = list(df_train.columns)[3:]\n",
    "\n",
    "X_train = df_train[train_columns[:-3]];  y_train = df_train[train_columns[-1:]]\n",
    "X_test = df_test[train_columns[:-3]];  y_test = df_test[train_columns[-1:]]\n",
    "\n",
    "y_train['OUTCOME'] = encode_label(y_train.OUTCOME.tolist()); y_test['OUTCOME'] = encode_label(y_test.OUTCOME.tolist())"
   ],
   "metadata": {
    "collapsed": false,
    "ExecuteTime": {
     "end_time": "2024-09-22T10:55:19.483672900Z",
     "start_time": "2024-09-22T10:55:19.294136700Z"
    }
   }
  },
  {
   "cell_type": "code",
   "execution_count": 29,
   "outputs": [
    {
     "data": {
      "text/plain": "        OUTCOME\n242103        1\n235221        1\n235220        0\n235219        0\n235287        1\n...         ...\n300424        0\n300425        0\n300423        0\n300422        0\n298737        0\n\n[236413 rows x 1 columns]",
      "text/html": "<div>\n<style scoped>\n    .dataframe tbody tr th:only-of-type {\n        vertical-align: middle;\n    }\n\n    .dataframe tbody tr th {\n        vertical-align: top;\n    }\n\n    .dataframe thead th {\n        text-align: right;\n    }\n</style>\n<table border=\"1\" class=\"dataframe\">\n  <thead>\n    <tr style=\"text-align: right;\">\n      <th></th>\n      <th>OUTCOME</th>\n    </tr>\n  </thead>\n  <tbody>\n    <tr>\n      <th>242103</th>\n      <td>1</td>\n    </tr>\n    <tr>\n      <th>235221</th>\n      <td>1</td>\n    </tr>\n    <tr>\n      <th>235220</th>\n      <td>0</td>\n    </tr>\n    <tr>\n      <th>235219</th>\n      <td>0</td>\n    </tr>\n    <tr>\n      <th>235287</th>\n      <td>1</td>\n    </tr>\n    <tr>\n      <th>...</th>\n      <td>...</td>\n    </tr>\n    <tr>\n      <th>300424</th>\n      <td>0</td>\n    </tr>\n    <tr>\n      <th>300425</th>\n      <td>0</td>\n    </tr>\n    <tr>\n      <th>300423</th>\n      <td>0</td>\n    </tr>\n    <tr>\n      <th>300422</th>\n      <td>0</td>\n    </tr>\n    <tr>\n      <th>298737</th>\n      <td>0</td>\n    </tr>\n  </tbody>\n</table>\n<p>236413 rows × 1 columns</p>\n</div>"
     },
     "execution_count": 29,
     "metadata": {},
     "output_type": "execute_result"
    }
   ],
   "source": [
    "y_train"
   ],
   "metadata": {
    "collapsed": false,
    "ExecuteTime": {
     "end_time": "2024-09-22T10:55:20.954776Z",
     "start_time": "2024-09-22T10:55:20.921735700Z"
    }
   }
  },
  {
   "cell_type": "code",
   "execution_count": 30,
   "outputs": [],
   "source": [
    "lstm_embedding = LSTMEmbedding()\n",
    "X_train_processed = lstm_embedding.preprocess_data(X_train)"
   ],
   "metadata": {
    "collapsed": false,
    "ExecuteTime": {
     "end_time": "2024-09-22T10:56:28.571804800Z",
     "start_time": "2024-09-22T10:55:24.609366600Z"
    }
   }
  },
  {
   "cell_type": "code",
   "execution_count": 22,
   "outputs": [],
   "source": [
    "### medical step adding to LSTM failed\n",
    "#outcomes_train = label_reasons_column(y_train);  outcomes_test  = label_reasons_column(y_test)\n",
    "#y_train = y_train.copy();  y_test = y_test.copy()\n",
    "#y_train = [1 if elem == 2 else 0 for elem in outcomes_train]; y_test  = [1 if elem == 2 else 0 for elem in outcomes_test]"
   ],
   "metadata": {
    "collapsed": false,
    "ExecuteTime": {
     "end_time": "2024-09-22T10:21:53.752449900Z",
     "start_time": "2024-09-22T10:21:49.417284500Z"
    }
   }
  },
  {
   "cell_type": "code",
   "execution_count": 31,
   "outputs": [
    {
     "name": "stdout",
     "output_type": "stream",
     "text": [
      "Training Model\n",
      "Epoch 1/10\n",
      "\u001B[1m3694/3694\u001B[0m \u001B[32m━━━━━━━━━━━━━━━━━━━━\u001B[0m\u001B[37m\u001B[0m \u001B[1m21s\u001B[0m 5ms/step - accuracy: 0.5546 - loss: 0.6807\n",
      "Epoch 2/10\n",
      "\u001B[1m3694/3694\u001B[0m \u001B[32m━━━━━━━━━━━━━━━━━━━━\u001B[0m\u001B[37m\u001B[0m \u001B[1m19s\u001B[0m 5ms/step - accuracy: 0.5949 - loss: 0.6539\n",
      "Epoch 3/10\n",
      "\u001B[1m3694/3694\u001B[0m \u001B[32m━━━━━━━━━━━━━━━━━━━━\u001B[0m\u001B[37m\u001B[0m \u001B[1m19s\u001B[0m 5ms/step - accuracy: 0.6134 - loss: 0.6427\n",
      "Epoch 4/10\n",
      "\u001B[1m3694/3694\u001B[0m \u001B[32m━━━━━━━━━━━━━━━━━━━━\u001B[0m\u001B[37m\u001B[0m \u001B[1m19s\u001B[0m 5ms/step - accuracy: 0.6237 - loss: 0.6360\n",
      "Epoch 5/10\n",
      "\u001B[1m3694/3694\u001B[0m \u001B[32m━━━━━━━━━━━━━━━━━━━━\u001B[0m\u001B[37m\u001B[0m \u001B[1m20s\u001B[0m 5ms/step - accuracy: 0.6308 - loss: 0.6326\n",
      "Epoch 6/10\n",
      "\u001B[1m3694/3694\u001B[0m \u001B[32m━━━━━━━━━━━━━━━━━━━━\u001B[0m\u001B[37m\u001B[0m \u001B[1m19s\u001B[0m 5ms/step - accuracy: 0.6335 - loss: 0.6303\n",
      "Epoch 7/10\n",
      "\u001B[1m3694/3694\u001B[0m \u001B[32m━━━━━━━━━━━━━━━━━━━━\u001B[0m\u001B[37m\u001B[0m \u001B[1m20s\u001B[0m 5ms/step - accuracy: 0.6327 - loss: 0.6299\n",
      "Epoch 8/10\n",
      "\u001B[1m3694/3694\u001B[0m \u001B[32m━━━━━━━━━━━━━━━━━━━━\u001B[0m\u001B[37m\u001B[0m \u001B[1m19s\u001B[0m 5ms/step - accuracy: 0.6369 - loss: 0.6272\n",
      "Epoch 9/10\n",
      "\u001B[1m3694/3694\u001B[0m \u001B[32m━━━━━━━━━━━━━━━━━━━━\u001B[0m\u001B[37m\u001B[0m \u001B[1m19s\u001B[0m 5ms/step - accuracy: 0.6381 - loss: 0.6268\n",
      "Epoch 10/10\n",
      "\u001B[1m3694/3694\u001B[0m \u001B[32m━━━━━━━━━━━━━━━━━━━━\u001B[0m\u001B[37m\u001B[0m \u001B[1m19s\u001B[0m 5ms/step - accuracy: 0.6405 - loss: 0.6247\n",
      "Evaluating Model\n",
      "\u001B[1m1847/1847\u001B[0m \u001B[32m━━━━━━━━━━━━━━━━━━━━\u001B[0m\u001B[37m\u001B[0m \u001B[1m4s\u001B[0m 2ms/step - accuracy: 0.6181 - loss: 0.6445\n",
      "Model Accuracy on test data:  0.6715618968009949\n"
     ]
    }
   ],
   "source": [
    "print('Training Model')\n",
    "lstm_embedding.train_model(X_train_processed, y_train,epochs=10,batch_size=64)\n",
    "## no big difference since epoch 10, only 10 would make it\n",
    "\n",
    "print('Evaluating Model')\n",
    "accuracy = lstm_embedding.evaluate_model(X_test, y_test)\n",
    "\n",
    "print('Model Accuracy on test data: ',accuracy)"
   ],
   "metadata": {
    "collapsed": false,
    "ExecuteTime": {
     "end_time": "2024-09-22T11:00:02.094646Z",
     "start_time": "2024-09-22T10:56:30.820299400Z"
    }
   }
  },
  {
   "cell_type": "code",
   "execution_count": 32,
   "outputs": [
    {
     "data": {
      "text/plain": "(16, 1)"
     },
     "execution_count": 32,
     "metadata": {},
     "output_type": "execute_result"
    }
   ],
   "source": [
    "lstm_embedding.input_shape"
   ],
   "metadata": {
    "collapsed": false,
    "ExecuteTime": {
     "end_time": "2024-09-22T11:00:07.467867Z",
     "start_time": "2024-09-22T11:00:07.437259Z"
    }
   }
  },
  {
   "cell_type": "markdown",
   "source": [
    "## Test Results"
   ],
   "metadata": {
    "collapsed": false
   }
  },
  {
   "cell_type": "code",
   "execution_count": 33,
   "outputs": [
    {
     "data": {
      "text/plain": "array([[ 1, 17,  4,  3, 10,  3, 15, 14,  7,  1,  4, 13,  2,  6,  1,  7],\n       [ 1, 17,  4,  3, 10,  3, 15, 14,  7,  1,  4, 13,  2,  6,  1,  7],\n       [ 1, 17,  4,  3, 10,  3, 15, 14,  7,  1,  4, 13,  2,  6,  1,  7]])"
     },
     "execution_count": 33,
     "metadata": {},
     "output_type": "execute_result"
    }
   ],
   "source": [
    "X_test_vectorized = lstm_embedding.embedding_vector(X_test[:3],reload_model=False)\n",
    "X_test_vectorized"
   ],
   "metadata": {
    "collapsed": false,
    "ExecuteTime": {
     "end_time": "2024-09-22T11:00:11.582494600Z",
     "start_time": "2024-09-22T11:00:11.559042300Z"
    }
   }
  },
  {
   "cell_type": "code",
   "execution_count": 34,
   "outputs": [
    {
     "name": "stdout",
     "output_type": "stream",
     "text": [
      "Execution time: 0.55 seconds\n"
     ]
    }
   ],
   "source": [
    "start_time = time.time()\n",
    "lstm_encoder = LSTMEmbedding()\n",
    "lstm_encoder.load_model()\n",
    "X_test_vectorized = lstm_embedding.embedding_vector(X_test[:10],reload_model=True)\n",
    "\n",
    "end_time = time.time()\n",
    "execution_time = end_time - start_time\n",
    "print(\"Execution time: {:.2f} seconds\".format(execution_time))"
   ],
   "metadata": {
    "collapsed": false,
    "ExecuteTime": {
     "end_time": "2024-09-22T11:00:23.028199800Z",
     "start_time": "2024-09-22T11:00:22.464685300Z"
    }
   }
  },
  {
   "cell_type": "code",
   "execution_count": 35,
   "outputs": [
    {
     "data": {
      "text/plain": "array([[ 14, 476, 239,  30, 335, 476, 335, 240,  81, 239,  30,  44,  14,\n         24, 239,  81],\n       [239,  81, 239,  30, 335, 476, 335, 240,  81, 239,  30,  44,  14,\n         24, 239,  81],\n       [239,  81, 239,  30, 335, 476, 335, 240,  81, 239,  30,  44,  14,\n         24, 239,  81],\n       [239,  81, 239,  30, 335, 476, 335, 240,  81, 239,  30,  44,  14,\n         24, 239,  81],\n       [ 14, 240, 239,  30, 335, 476, 335, 240,  81, 239,  30,  44,  14,\n         24, 239,  81],\n       [ 14, 476, 239,  30, 335, 476, 335, 240,  81, 239,  30,  44,  14,\n         24, 239,  81],\n       [356, 381, 356,  61, 476,  56,  14,  24,  81, 239,  30,  44,  14,\n         24, 239,  81],\n       [356, 381, 356,  61, 476,  56,  14,  24,  81, 239,  30,  44,  14,\n         24, 239,  81],\n       [356, 381, 356,  61, 476,  56,  14,  24,  81, 239,  30,  44,  14,\n         24, 239,  81],\n       [356, 381, 356,  61, 476,  56,  14,  24,  81, 239,  30,  44,  14,\n         24, 239,  81]])"
     },
     "execution_count": 35,
     "metadata": {},
     "output_type": "execute_result"
    }
   ],
   "source": [
    "X_test_vectorized"
   ],
   "metadata": {
    "collapsed": false,
    "ExecuteTime": {
     "end_time": "2024-09-22T11:02:51.867190300Z",
     "start_time": "2024-09-22T11:02:51.857205100Z"
    }
   }
  },
  {
   "cell_type": "code",
   "execution_count": 36,
   "outputs": [],
   "source": [
    "def vectorize(COUNT_VALS):\n",
    "      preds = lstm_encoder.embedding_vector(X_test[:COUNT_VALS],reload_model=True)\n",
    "      return\n",
    "\n",
    "def calculate_excecution():\n",
    "  exs = []\n",
    "  COUNT_VALS = 50\n",
    "  for i in range(10):\n",
    "    start_time = time.time()\n",
    "\n",
    "    vectorize(COUNT_VALS)\n",
    "\n",
    "    end_time = time.time()\n",
    "\n",
    "    execution_time = end_time - start_time\n",
    "    exs.append(execution_time)\n",
    "\n",
    "  average = np.array(exs).mean()\n",
    "  return average/COUNT_VALS"
   ],
   "metadata": {
    "collapsed": false,
    "ExecuteTime": {
     "end_time": "2024-09-22T11:03:05.374969500Z",
     "start_time": "2024-09-22T11:03:05.110804800Z"
    }
   }
  },
  {
   "cell_type": "code",
   "execution_count": 37,
   "outputs": [
    {
     "data": {
      "text/plain": "0.001843207836151123"
     },
     "execution_count": 37,
     "metadata": {},
     "output_type": "execute_result"
    }
   ],
   "source": [
    "calculate_excecution()"
   ],
   "metadata": {
    "collapsed": false,
    "ExecuteTime": {
     "end_time": "2024-09-22T11:03:07.713523800Z",
     "start_time": "2024-09-22T11:03:06.772455700Z"
    }
   }
  },
  {
   "cell_type": "code",
   "execution_count": 38,
   "outputs": [
    {
     "data": {
      "text/plain": "                   OASIS_IOS_DESCRIPTION      SERVICE_TYPE  UNIT UNIT_TYPE  \\\n296669      TEGRETOL CR 200MG SCORED TAB  medication-codes     1       TAB   \n298738         COMPUTERIZED DIGITAL EEG\\        procedures  None      None   \n298739                      EXPERT CONS.          services  None      None   \n302638                      EXPERT CONS.          services  None      None   \n302639   MRI PITUARY GLAND WITH CONTRAST           imaging  None      None   \n...                                  ...               ...   ...       ...   \n352722                 CLARA 10MG TABLET  medication-codes     1       TAB   \n352721                          AZI-ONCE  medication-codes   1.2       CAP   \n352720            KAFOSED SYRUP 15MG-5ML  medication-codes     1       BOT   \n352719    INTRAVENOUS INJECTION(INJ.ROOM          services  None      None   \n352731  CONTRA 15/200 MG SOFTGEL CAPSULE  medication-codes     1       CAP   \n\n       TIMES               PER              PROVIDER_DEPARTMENT  \n296669     2  TWO TIMES  DAILY     NEUROLOGY SERVICES مخ واعصاب  \n298738  None              None     NEUROLOGY SERVICES مخ واعصاب  \n298739  None              None     NEUROLOGY SERVICES مخ واعصاب  \n302638  None              None     NEUROLOGY SERVICES مخ واعصاب  \n302639  None              None     NEUROLOGY SERVICES مخ واعصاب  \n...      ...               ...                              ...  \n352722     1        ONCE DAILY  EMERGENCY ROOM SERVICES - طوارى  \n352721     1        ONCE DAILY  EMERGENCY ROOM SERVICES - طوارى  \n352720     1         IF NEEDED  EMERGENCY ROOM SERVICES - طوارى  \n352719  None              None  EMERGENCY ROOM SERVICES - طوارى  \n352731     3     EVERY 8 HOURS  EMERGENCY ROOM SERVICES - طوارى  \n\n[59104 rows x 7 columns]",
      "text/html": "<div>\n<style scoped>\n    .dataframe tbody tr th:only-of-type {\n        vertical-align: middle;\n    }\n\n    .dataframe tbody tr th {\n        vertical-align: top;\n    }\n\n    .dataframe thead th {\n        text-align: right;\n    }\n</style>\n<table border=\"1\" class=\"dataframe\">\n  <thead>\n    <tr style=\"text-align: right;\">\n      <th></th>\n      <th>OASIS_IOS_DESCRIPTION</th>\n      <th>SERVICE_TYPE</th>\n      <th>UNIT</th>\n      <th>UNIT_TYPE</th>\n      <th>TIMES</th>\n      <th>PER</th>\n      <th>PROVIDER_DEPARTMENT</th>\n    </tr>\n  </thead>\n  <tbody>\n    <tr>\n      <th>296669</th>\n      <td>TEGRETOL CR 200MG SCORED TAB</td>\n      <td>medication-codes</td>\n      <td>1</td>\n      <td>TAB</td>\n      <td>2</td>\n      <td>TWO TIMES  DAILY</td>\n      <td>NEUROLOGY SERVICES مخ واعصاب</td>\n    </tr>\n    <tr>\n      <th>298738</th>\n      <td>COMPUTERIZED DIGITAL EEG\\</td>\n      <td>procedures</td>\n      <td>None</td>\n      <td>None</td>\n      <td>None</td>\n      <td>None</td>\n      <td>NEUROLOGY SERVICES مخ واعصاب</td>\n    </tr>\n    <tr>\n      <th>298739</th>\n      <td>EXPERT CONS.</td>\n      <td>services</td>\n      <td>None</td>\n      <td>None</td>\n      <td>None</td>\n      <td>None</td>\n      <td>NEUROLOGY SERVICES مخ واعصاب</td>\n    </tr>\n    <tr>\n      <th>302638</th>\n      <td>EXPERT CONS.</td>\n      <td>services</td>\n      <td>None</td>\n      <td>None</td>\n      <td>None</td>\n      <td>None</td>\n      <td>NEUROLOGY SERVICES مخ واعصاب</td>\n    </tr>\n    <tr>\n      <th>302639</th>\n      <td>MRI PITUARY GLAND WITH CONTRAST</td>\n      <td>imaging</td>\n      <td>None</td>\n      <td>None</td>\n      <td>None</td>\n      <td>None</td>\n      <td>NEUROLOGY SERVICES مخ واعصاب</td>\n    </tr>\n    <tr>\n      <th>...</th>\n      <td>...</td>\n      <td>...</td>\n      <td>...</td>\n      <td>...</td>\n      <td>...</td>\n      <td>...</td>\n      <td>...</td>\n    </tr>\n    <tr>\n      <th>352722</th>\n      <td>CLARA 10MG TABLET</td>\n      <td>medication-codes</td>\n      <td>1</td>\n      <td>TAB</td>\n      <td>1</td>\n      <td>ONCE DAILY</td>\n      <td>EMERGENCY ROOM SERVICES - طوارى</td>\n    </tr>\n    <tr>\n      <th>352721</th>\n      <td>AZI-ONCE</td>\n      <td>medication-codes</td>\n      <td>1.2</td>\n      <td>CAP</td>\n      <td>1</td>\n      <td>ONCE DAILY</td>\n      <td>EMERGENCY ROOM SERVICES - طوارى</td>\n    </tr>\n    <tr>\n      <th>352720</th>\n      <td>KAFOSED SYRUP 15MG-5ML</td>\n      <td>medication-codes</td>\n      <td>1</td>\n      <td>BOT</td>\n      <td>1</td>\n      <td>IF NEEDED</td>\n      <td>EMERGENCY ROOM SERVICES - طوارى</td>\n    </tr>\n    <tr>\n      <th>352719</th>\n      <td>INTRAVENOUS INJECTION(INJ.ROOM</td>\n      <td>services</td>\n      <td>None</td>\n      <td>None</td>\n      <td>None</td>\n      <td>None</td>\n      <td>EMERGENCY ROOM SERVICES - طوارى</td>\n    </tr>\n    <tr>\n      <th>352731</th>\n      <td>CONTRA 15/200 MG SOFTGEL CAPSULE</td>\n      <td>medication-codes</td>\n      <td>1</td>\n      <td>CAP</td>\n      <td>3</td>\n      <td>EVERY 8 HOURS</td>\n      <td>EMERGENCY ROOM SERVICES - طوارى</td>\n    </tr>\n  </tbody>\n</table>\n<p>59104 rows × 7 columns</p>\n</div>"
     },
     "execution_count": 38,
     "metadata": {},
     "output_type": "execute_result"
    }
   ],
   "source": [
    "X_test"
   ],
   "metadata": {
    "collapsed": false,
    "ExecuteTime": {
     "end_time": "2024-09-22T11:03:09.406513300Z",
     "start_time": "2024-09-22T11:03:09.381158900Z"
    }
   }
  },
  {
   "cell_type": "code",
   "execution_count": null,
   "outputs": [],
   "source": [],
   "metadata": {
    "collapsed": false
   }
  }
 ],
 "metadata": {
  "kernelspec": {
   "display_name": "Python 3",
   "language": "python",
   "name": "python3"
  },
  "language_info": {
   "codemirror_mode": {
    "name": "ipython",
    "version": 2
   },
   "file_extension": ".py",
   "mimetype": "text/x-python",
   "name": "python",
   "nbconvert_exporter": "python",
   "pygments_lexer": "ipython2",
   "version": "2.7.6"
  }
 },
 "nbformat": 4,
 "nbformat_minor": 0
}
