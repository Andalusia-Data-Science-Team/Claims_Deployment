{
 "cells": [
  {
   "cell_type": "code",
   "execution_count": 2,
   "metadata": {
    "collapsed": true,
    "ExecuteTime": {
     "end_time": "2024-09-18T10:12:43.273674900Z",
     "start_time": "2024-09-18T10:11:51.265984800Z"
    }
   },
   "outputs": [],
   "source": [
    "from src.utilities_rejection import RejectionReasonLabeling, label_reasons, label_reasons_column\n",
    "from src.data_local import MergedDataPreprocessing\n",
    "from src.lstm_encoder import LSTMEmbedding\n",
    "from src.model_train import encode_label\n",
    "from cashe import get_cashed_input\n",
    "import numpy as np\n",
    "import time"
   ]
  },
  {
   "cell_type": "code",
   "execution_count": 3,
   "outputs": [],
   "source": [
    "df_original = get_cashed_input()\n",
    "\n",
    "df_original = df_original[['VISIT_ID','CREATION_DATE','NOTES','SERVICE_DESCRIPTION', 'SERVICE_TYPE', 'OASIS_IOS_DESCRIPTION','PROVIDER_DEPARTMENT','ICD10','Chief_Complaint','OUTCOME']]"
   ],
   "metadata": {
    "collapsed": false,
    "ExecuteTime": {
     "end_time": "2024-09-18T10:12:58.685285100Z",
     "start_time": "2024-09-18T10:12:43.274671700Z"
    }
   }
  },
  {
   "cell_type": "code",
   "execution_count": 4,
   "outputs": [],
   "source": [
    "preprocessing = MergedDataPreprocessing(df_original)\n",
    "preprocessing.fast_icd_encode()\n",
    "\n",
    "df_train, df_test = preprocessing.train_test_split_time()"
   ],
   "metadata": {
    "collapsed": false,
    "ExecuteTime": {
     "end_time": "2024-09-18T10:12:59.503708800Z",
     "start_time": "2024-09-18T10:12:58.698775100Z"
    }
   }
  },
  {
   "cell_type": "code",
   "execution_count": 5,
   "outputs": [],
   "source": [
    "reasons = ['MN-1-1']\n",
    "\n",
    "train_rej = RejectionReasonLabeling(df_train)\n",
    "train_rej.recoginze_label()\n",
    "train_rej = RejectionReasonLabeling(df_test)\n",
    "train_rej.recoginze_label()\n",
    "\n",
    "df_train, df_test = label_reasons(df_train,df_test,reasons)"
   ],
   "metadata": {
    "collapsed": false,
    "ExecuteTime": {
     "end_time": "2024-09-18T10:13:03.746200100Z",
     "start_time": "2024-09-18T10:12:59.503708800Z"
    }
   }
  },
  {
   "cell_type": "code",
   "execution_count": 7,
   "outputs": [
    {
     "name": "stderr",
     "output_type": "stream",
     "text": [
      "C:\\Users\\omar.mounir\\AppData\\Local\\Temp\\ipykernel_14584\\2327790411.py:6: SettingWithCopyWarning: \n",
      "A value is trying to be set on a copy of a slice from a DataFrame.\n",
      "Try using .loc[row_indexer,col_indexer] = value instead\n",
      "\n",
      "See the caveats in the documentation: https://pandas.pydata.org/pandas-docs/stable/user_guide/indexing.html#returning-a-view-versus-a-copy\n",
      "  y_train['OUTCOME'] = encode_label(y_train.OUTCOME.tolist()); y_test['OUTCOME'] = encode_label(y_test.OUTCOME.tolist())\n"
     ]
    }
   ],
   "source": [
    "train_columns = list(df_train.columns)[3:]\n",
    "\n",
    "X_train = df_train[train_columns[:-3]];  y_train = df_train[train_columns[-3:]]\n",
    "X_test = df_test[train_columns[:-3]];  y_test = df_test[train_columns[-3:]]\n",
    "\n",
    "y_train['OUTCOME'] = encode_label(y_train.OUTCOME.tolist()); y_test['OUTCOME'] = encode_label(y_test.OUTCOME.tolist())"
   ],
   "metadata": {
    "collapsed": false,
    "ExecuteTime": {
     "end_time": "2024-09-18T10:14:40.320232600Z",
     "start_time": "2024-09-18T10:14:40.005063100Z"
    }
   }
  },
  {
   "cell_type": "code",
   "execution_count": 60,
   "outputs": [
    {
     "data": {
      "text/plain": "        OUTCOME NPHIES_CODE  NPHIES_LABEL\n242103        1        None             0\n242104        0      CV-1-1             0\n242107        0      CV-1-1             0\n242108        0      CV-1-1             0\n242109        0      CV-1-1             0\n...         ...         ...           ...\n365593        1        None             0\n365588        0        None             0\n367850        0      MN-1-1             2\n365597        1        None             0\n365595        0        None             0\n\n[256043 rows x 3 columns]",
      "text/html": "<div>\n<style scoped>\n    .dataframe tbody tr th:only-of-type {\n        vertical-align: middle;\n    }\n\n    .dataframe tbody tr th {\n        vertical-align: top;\n    }\n\n    .dataframe thead th {\n        text-align: right;\n    }\n</style>\n<table border=\"1\" class=\"dataframe\">\n  <thead>\n    <tr style=\"text-align: right;\">\n      <th></th>\n      <th>OUTCOME</th>\n      <th>NPHIES_CODE</th>\n      <th>NPHIES_LABEL</th>\n    </tr>\n  </thead>\n  <tbody>\n    <tr>\n      <th>242103</th>\n      <td>1</td>\n      <td>None</td>\n      <td>0</td>\n    </tr>\n    <tr>\n      <th>242104</th>\n      <td>0</td>\n      <td>CV-1-1</td>\n      <td>0</td>\n    </tr>\n    <tr>\n      <th>242107</th>\n      <td>0</td>\n      <td>CV-1-1</td>\n      <td>0</td>\n    </tr>\n    <tr>\n      <th>242108</th>\n      <td>0</td>\n      <td>CV-1-1</td>\n      <td>0</td>\n    </tr>\n    <tr>\n      <th>242109</th>\n      <td>0</td>\n      <td>CV-1-1</td>\n      <td>0</td>\n    </tr>\n    <tr>\n      <th>...</th>\n      <td>...</td>\n      <td>...</td>\n      <td>...</td>\n    </tr>\n    <tr>\n      <th>365593</th>\n      <td>1</td>\n      <td>None</td>\n      <td>0</td>\n    </tr>\n    <tr>\n      <th>365588</th>\n      <td>0</td>\n      <td>None</td>\n      <td>0</td>\n    </tr>\n    <tr>\n      <th>367850</th>\n      <td>0</td>\n      <td>MN-1-1</td>\n      <td>2</td>\n    </tr>\n    <tr>\n      <th>365597</th>\n      <td>1</td>\n      <td>None</td>\n      <td>0</td>\n    </tr>\n    <tr>\n      <th>365595</th>\n      <td>0</td>\n      <td>None</td>\n      <td>0</td>\n    </tr>\n  </tbody>\n</table>\n<p>256043 rows × 3 columns</p>\n</div>"
     },
     "execution_count": 60,
     "metadata": {},
     "output_type": "execute_result"
    }
   ],
   "source": [
    "y_train"
   ],
   "metadata": {
    "collapsed": false,
    "ExecuteTime": {
     "end_time": "2024-09-17T12:58:38.238923100Z",
     "start_time": "2024-09-17T12:58:38.221889900Z"
    }
   }
  },
  {
   "cell_type": "code",
   "execution_count": 8,
   "outputs": [],
   "source": [
    "lstm_embedding = LSTMEmbedding()\n",
    "X_train_processed = lstm_embedding.preprocess_data(X_train)"
   ],
   "metadata": {
    "collapsed": false,
    "ExecuteTime": {
     "end_time": "2024-09-18T10:15:18.723713500Z",
     "start_time": "2024-09-18T10:15:04.108445300Z"
    }
   }
  },
  {
   "cell_type": "code",
   "execution_count": 9,
   "outputs": [],
   "source": [
    "outcomes_train = label_reasons_column(y_train);  outcomes_test  = label_reasons_column(y_test)\n",
    "\n",
    "y_train = y_train.copy();  y_test = y_test.copy()"
   ],
   "metadata": {
    "collapsed": false,
    "ExecuteTime": {
     "end_time": "2024-09-18T10:15:53.302962400Z",
     "start_time": "2024-09-18T10:15:48.228788Z"
    }
   }
  },
  {
   "cell_type": "code",
   "execution_count": 10,
   "outputs": [],
   "source": [
    "y_train = [1 if elem == 2 else 0 for elem in outcomes_train] ## keeping the medical reason\n",
    "y_test  = [1 if elem == 2 else 0 for elem in outcomes_test]"
   ],
   "metadata": {
    "collapsed": false,
    "ExecuteTime": {
     "end_time": "2024-09-18T10:15:53.337189500Z",
     "start_time": "2024-09-18T10:15:53.304959300Z"
    }
   }
  },
  {
   "cell_type": "code",
   "execution_count": null,
   "outputs": [],
   "source": [
    "print('Training Model')\n",
    "lstm_embedding.train_model(X_train_processed, y_train,epochs=20,batch_size=64)\n",
    "\n",
    "print('Evaluating Model')\n",
    "accuracy = lstm_embedding.evaluate_model(X_test, y_test)\n",
    "\n",
    "print('Model Accuracy on test data: ',accuracy)"
   ],
   "metadata": {
    "collapsed": false
   }
  },
  {
   "cell_type": "code",
   "execution_count": null,
   "outputs": [],
   "source": [
    "lstm_embedding.input_shape"
   ],
   "metadata": {
    "collapsed": false
   }
  },
  {
   "cell_type": "markdown",
   "source": [
    "## Test Results"
   ],
   "metadata": {
    "collapsed": false
   }
  },
  {
   "cell_type": "code",
   "execution_count": 69,
   "outputs": [
    {
     "data": {
      "text/plain": "array([[ 214,  633,  975,  765,  566, 1556, 1443, 6169],\n       [ 157,  296,  140,  162,  163,  164,  666, 1244],\n       [ 276, 1075,  140,  162,  163,  164,  666, 1244]])"
     },
     "execution_count": 69,
     "metadata": {},
     "output_type": "execute_result"
    }
   ],
   "source": [
    "X_test_vectorized = lstm_embedding.embedding_vector(X_test[:3],reload_model=False)\n",
    "X_test_vectorized"
   ],
   "metadata": {
    "collapsed": false,
    "ExecuteTime": {
     "end_time": "2024-09-17T13:10:34.419501200Z",
     "start_time": "2024-09-17T13:10:34.375281800Z"
    }
   }
  },
  {
   "cell_type": "code",
   "execution_count": 14,
   "outputs": [
    {
     "name": "stdout",
     "output_type": "stream",
     "text": [
      "Execution time: 0.13 seconds\n"
     ]
    }
   ],
   "source": [
    "start_time = time.time()\n",
    "lstm_encoder = LSTMEmbedding()\n",
    "lstm_encoder.load_model()\n",
    "X_test_vectorized = lstm_embedding.embedding_vector(X_test[:10],reload_model=True)\n",
    "\n",
    "end_time = time.time()\n",
    "execution_time = end_time - start_time\n",
    "print(\"Execution time: {:.2f} seconds\".format(execution_time))"
   ],
   "metadata": {
    "collapsed": false,
    "ExecuteTime": {
     "end_time": "2024-09-18T10:16:44.074026700Z",
     "start_time": "2024-09-18T10:16:43.930171500Z"
    }
   }
  },
  {
   "cell_type": "code",
   "execution_count": 15,
   "outputs": [
    {
     "data": {
      "text/plain": "array([[  7,   8,  72,  19,   7,   8,  19,  12,   5, 424, 424, 530, 788,\n          0,   0,   0],\n       [316,  33, 208,  69, 316,  33, 208,  69,   0,   0,   0,   0,   0,\n          0,   0,   0],\n       [  5, 119,   5, 119,   0,   0,   0,   0,   0,   0,   0,   0,   0,\n          0,   0,   0],\n       [422,   5, 674, 607, 422,   5, 674, 607,   0,   0,   0,   0,   0,\n          0,   0,   0],\n       [422,   5, 674, 607, 422,   5, 674, 607,   0,   0,   0,   0,   0,\n          0,   0,   0],\n       [ 77,  77,   0,   0,   0,   0,   0,   0,   0,   0,   0,   0,   0,\n          0,   0,   0],\n       [ 70,   5, 123, 300, 465, 556,   0,   0,   0,   0,   0,   0,   0,\n          0,   0,   0],\n       [307, 107, 307, 107,  29, 300, 465, 556,   0,   0,   0,   0,   0,\n          0,   0,   0],\n       [ 63, 421,  52,  63, 421,  52, 300, 465, 556,   0,   0,   0,   0,\n          0,   0,   0],\n       [264,  52, 187,   2, 264,  52, 187,   2, 300, 465, 556,   0,   0,\n          0,   0,   0]])"
     },
     "execution_count": 15,
     "metadata": {},
     "output_type": "execute_result"
    }
   ],
   "source": [
    "X_test_vectorized"
   ],
   "metadata": {
    "collapsed": false,
    "ExecuteTime": {
     "end_time": "2024-09-18T10:16:44.955313500Z",
     "start_time": "2024-09-18T10:16:44.928520200Z"
    }
   }
  },
  {
   "cell_type": "code",
   "execution_count": 16,
   "outputs": [],
   "source": [
    "def vectorize(COUNT_VALS):\n",
    "      preds = lstm_encoder.embedding_vector(X_test[:COUNT_VALS],reload_model=True)\n",
    "      return\n",
    "\n",
    "def calculate_excecution():\n",
    "  exs = []\n",
    "  COUNT_VALS = 50\n",
    "  for i in range(10):\n",
    "    start_time = time.time()\n",
    "\n",
    "    vectorize(COUNT_VALS)\n",
    "\n",
    "    end_time = time.time()\n",
    "\n",
    "    execution_time = end_time - start_time\n",
    "    exs.append(execution_time)\n",
    "\n",
    "  average = np.array(exs).mean()\n",
    "  return average/COUNT_VALS"
   ],
   "metadata": {
    "collapsed": false,
    "ExecuteTime": {
     "end_time": "2024-09-18T10:16:47.522808400Z",
     "start_time": "2024-09-18T10:16:47.501025800Z"
    }
   }
  },
  {
   "cell_type": "code",
   "execution_count": 17,
   "outputs": [
    {
     "data": {
      "text/plain": "0.001288477897644043"
     },
     "execution_count": 17,
     "metadata": {},
     "output_type": "execute_result"
    }
   ],
   "source": [
    "calculate_excecution()"
   ],
   "metadata": {
    "collapsed": false,
    "ExecuteTime": {
     "end_time": "2024-09-18T10:16:51.123379300Z",
     "start_time": "2024-09-18T10:16:50.471902200Z"
    }
   }
  },
  {
   "cell_type": "code",
   "execution_count": 18,
   "outputs": [
    {
     "data": {
      "text/plain": "                                      SERVICE_DESCRIPTION      SERVICE_TYPE  \\\n365589  Automated complete Blood cell  and differentia...        laboratory   \n305745                            FUCIDIN CREAM  2% 30 GM  medication-codes   \n305744                  Cryotherapy of single skin lesion        procedures   \n307086                         Dressing of wound, large          procedures   \n307088                         Dressing of wound, large          procedures   \n...                                                   ...               ...   \n352722                                  CLARA 10MG TABLET  medication-codes   \n352721                                           AZI-ONCE  medication-codes   \n352720                             KAFOSED SYRUP 15MG-5ML  medication-codes   \n352719                                      Unlisted Code          services   \n352731                   CONTRA 15/200 MG SOFTGEL CAPSULE  medication-codes   \n\n                        OASIS_IOS_DESCRIPTION  \\\n365589   Automated complete Blood cell count    \n305745                FUCIDIN CREAM  2% 30 GM   \n305744      CRYOTHERAPY OF SINGLE SKIN LESION   \n307086              Dressing of wound, large    \n307088              Dressing of wound, large    \n...                                       ...   \n352722                      CLARA 10MG TABLET   \n352721                               AZI-ONCE   \n352720                 KAFOSED SYRUP 15MG-5ML   \n352719         INTRAVENOUS INJECTION(INJ.ROOM   \n352731       CONTRA 15/200 MG SOFTGEL CAPSULE   \n\n                           PROVIDER_DEPARTMENT  \\\n365589            ORTHOPAEDIC SERVICE - العظام   \n305745  DERMATOLOGY & VENEREOLOGY SERV - جلدية   \n305744  DERMATOLOGY & VENEREOLOGY SERV - جلدية   \n307086  DERMATOLOGY & VENEREOLOGY SERV - جلدية   \n307088  DERMATOLOGY & VENEREOLOGY SERV - جلدية   \n...                                        ...   \n352722         EMERGENCY ROOM SERVICES - طوارى   \n352721         EMERGENCY ROOM SERVICES - طوارى   \n352720         EMERGENCY ROOM SERVICES - طوارى   \n352719         EMERGENCY ROOM SERVICES - طوارى   \n352731         EMERGENCY ROOM SERVICES - طوارى   \n\n                                                    ICD10  \\\n365589                    Adhesive capsulitis of shoulder   \n305745                                        Viral warts   \n305744                                        Viral warts   \n307086                                        Viral warts   \n307088                                        Viral warts   \n...                                                   ...   \n352722  Acute upper respiratory infections of multiple...   \n352721  Acute upper respiratory infections of multiple...   \n352720  Acute upper respiratory infections of multiple...   \n352719  Acute upper respiratory infections of multiple...   \n352731  Acute upper respiratory infections of multiple...   \n\n                                          Chief_Complaint  \n365589  left shoulder pain no truma 1w over use during...  \n305745                                               None  \n305744                                               None  \n307086                                               None  \n307088                                               None  \n...                                                   ...  \n352722                                               None  \n352721                                               None  \n352720                                               None  \n352719                                               None  \n352731                                               None  \n\n[64011 rows x 6 columns]",
      "text/html": "<div>\n<style scoped>\n    .dataframe tbody tr th:only-of-type {\n        vertical-align: middle;\n    }\n\n    .dataframe tbody tr th {\n        vertical-align: top;\n    }\n\n    .dataframe thead th {\n        text-align: right;\n    }\n</style>\n<table border=\"1\" class=\"dataframe\">\n  <thead>\n    <tr style=\"text-align: right;\">\n      <th></th>\n      <th>SERVICE_DESCRIPTION</th>\n      <th>SERVICE_TYPE</th>\n      <th>OASIS_IOS_DESCRIPTION</th>\n      <th>PROVIDER_DEPARTMENT</th>\n      <th>ICD10</th>\n      <th>Chief_Complaint</th>\n    </tr>\n  </thead>\n  <tbody>\n    <tr>\n      <th>365589</th>\n      <td>Automated complete Blood cell  and differentia...</td>\n      <td>laboratory</td>\n      <td>Automated complete Blood cell count</td>\n      <td>ORTHOPAEDIC SERVICE - العظام</td>\n      <td>Adhesive capsulitis of shoulder</td>\n      <td>left shoulder pain no truma 1w over use during...</td>\n    </tr>\n    <tr>\n      <th>305745</th>\n      <td>FUCIDIN CREAM  2% 30 GM</td>\n      <td>medication-codes</td>\n      <td>FUCIDIN CREAM  2% 30 GM</td>\n      <td>DERMATOLOGY &amp; VENEREOLOGY SERV - جلدية</td>\n      <td>Viral warts</td>\n      <td>None</td>\n    </tr>\n    <tr>\n      <th>305744</th>\n      <td>Cryotherapy of single skin lesion</td>\n      <td>procedures</td>\n      <td>CRYOTHERAPY OF SINGLE SKIN LESION</td>\n      <td>DERMATOLOGY &amp; VENEREOLOGY SERV - جلدية</td>\n      <td>Viral warts</td>\n      <td>None</td>\n    </tr>\n    <tr>\n      <th>307086</th>\n      <td>Dressing of wound, large</td>\n      <td>procedures</td>\n      <td>Dressing of wound, large</td>\n      <td>DERMATOLOGY &amp; VENEREOLOGY SERV - جلدية</td>\n      <td>Viral warts</td>\n      <td>None</td>\n    </tr>\n    <tr>\n      <th>307088</th>\n      <td>Dressing of wound, large</td>\n      <td>procedures</td>\n      <td>Dressing of wound, large</td>\n      <td>DERMATOLOGY &amp; VENEREOLOGY SERV - جلدية</td>\n      <td>Viral warts</td>\n      <td>None</td>\n    </tr>\n    <tr>\n      <th>...</th>\n      <td>...</td>\n      <td>...</td>\n      <td>...</td>\n      <td>...</td>\n      <td>...</td>\n      <td>...</td>\n    </tr>\n    <tr>\n      <th>352722</th>\n      <td>CLARA 10MG TABLET</td>\n      <td>medication-codes</td>\n      <td>CLARA 10MG TABLET</td>\n      <td>EMERGENCY ROOM SERVICES - طوارى</td>\n      <td>Acute upper respiratory infections of multiple...</td>\n      <td>None</td>\n    </tr>\n    <tr>\n      <th>352721</th>\n      <td>AZI-ONCE</td>\n      <td>medication-codes</td>\n      <td>AZI-ONCE</td>\n      <td>EMERGENCY ROOM SERVICES - طوارى</td>\n      <td>Acute upper respiratory infections of multiple...</td>\n      <td>None</td>\n    </tr>\n    <tr>\n      <th>352720</th>\n      <td>KAFOSED SYRUP 15MG-5ML</td>\n      <td>medication-codes</td>\n      <td>KAFOSED SYRUP 15MG-5ML</td>\n      <td>EMERGENCY ROOM SERVICES - طوارى</td>\n      <td>Acute upper respiratory infections of multiple...</td>\n      <td>None</td>\n    </tr>\n    <tr>\n      <th>352719</th>\n      <td>Unlisted Code</td>\n      <td>services</td>\n      <td>INTRAVENOUS INJECTION(INJ.ROOM</td>\n      <td>EMERGENCY ROOM SERVICES - طوارى</td>\n      <td>Acute upper respiratory infections of multiple...</td>\n      <td>None</td>\n    </tr>\n    <tr>\n      <th>352731</th>\n      <td>CONTRA 15/200 MG SOFTGEL CAPSULE</td>\n      <td>medication-codes</td>\n      <td>CONTRA 15/200 MG SOFTGEL CAPSULE</td>\n      <td>EMERGENCY ROOM SERVICES - طوارى</td>\n      <td>Acute upper respiratory infections of multiple...</td>\n      <td>None</td>\n    </tr>\n  </tbody>\n</table>\n<p>64011 rows × 6 columns</p>\n</div>"
     },
     "execution_count": 18,
     "metadata": {},
     "output_type": "execute_result"
    }
   ],
   "source": [
    "X_test"
   ],
   "metadata": {
    "collapsed": false,
    "ExecuteTime": {
     "end_time": "2024-09-18T10:16:52.054520400Z",
     "start_time": "2024-09-18T10:16:52.023812300Z"
    }
   }
  },
  {
   "cell_type": "code",
   "execution_count": null,
   "outputs": [],
   "source": [],
   "metadata": {
    "collapsed": false
   }
  }
 ],
 "metadata": {
  "kernelspec": {
   "display_name": "Python 3",
   "language": "python",
   "name": "python3"
  },
  "language_info": {
   "codemirror_mode": {
    "name": "ipython",
    "version": 2
   },
   "file_extension": ".py",
   "mimetype": "text/x-python",
   "name": "python",
   "nbconvert_exporter": "python",
   "pygments_lexer": "ipython2",
   "version": "2.7.6"
  }
 },
 "nbformat": 4,
 "nbformat_minor": 0
}
