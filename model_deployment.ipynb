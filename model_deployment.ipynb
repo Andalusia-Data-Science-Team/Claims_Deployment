{
 "cells": [
  {
   "cell_type": "code",
   "execution_count": 1,
   "metadata": {
    "collapsed": true,
    "ExecuteTime": {
     "end_time": "2024-10-12T23:45:41.404285600Z",
     "start_time": "2024-10-12T23:40:17.430213800Z"
    }
   },
   "outputs": [
    {
     "name": "stdout",
     "output_type": "stream",
     "text": [
      "data is loaded successfully\n"
     ]
    }
   ],
   "source": [
    "from cashe import get_train_test_cashe, get_training_inputs, drop_nomodel_columns\n",
    "from src.data_local import MergedDataPreprocessing\n",
    "from src.model_app import ModelApplication\n",
    "from src.lstm_encoder import LSTMEmbedding\n",
    "\n",
    "df_train, df_test = get_train_test_cashe(date_day='03-09',drop_duplicates=False)\n",
    "X_train, y_train, X_test, y_test = get_training_inputs(df_train, df_test)\n",
    "print('data is loaded successfully')\n",
    "\n",
    "preprocessing_train = MergedDataPreprocessing(X_train)\n",
    "X_train_prep = preprocessing_train.columns_prep()\n",
    "\n",
    "lstm_embedding = LSTMEmbedding()\n",
    "dropping_check_1 = True\n",
    "X_train_encoded = preprocessing_train.column_embedding(X_train_prep, drop_after_processing=dropping_check_1)\n",
    "\n",
    "dropping_check_2 = False\n",
    "X_train = drop_nomodel_columns(X_train_encoded, eliminate_repeated=dropping_check_2)"
   ]
  },
  {
   "cell_type": "code",
   "execution_count": 2,
   "outputs": [
    {
     "name": "stdout",
     "output_type": "stream",
     "text": [
      "data is preprocessed numerically\n",
      "data is encoded\n",
      "data is ready\n"
     ]
    }
   ],
   "source": [
    "preprocessing_test = MergedDataPreprocessing(X_test)\n",
    "X_test_prep = preprocessing_test.columns_prep()\n",
    "print('data is preprocessed numerically')\n",
    "\n",
    "X_test_encoded = preprocessing_train.column_embedding(X_test_prep, drop_after_processing=dropping_check_1)\n",
    "print('data is encoded')\n",
    "\n",
    "X_test2 = drop_nomodel_columns(X_test_encoded, eliminate_repeated=dropping_check_2)\n",
    "print('data is ready')"
   ],
   "metadata": {
    "collapsed": false,
    "ExecuteTime": {
     "end_time": "2024-10-12T23:46:58.913049600Z",
     "start_time": "2024-10-12T23:45:41.407277Z"
    }
   }
  },
  {
   "cell_type": "code",
   "execution_count": 3,
   "outputs": [
    {
     "name": "stdout",
     "output_type": "stream",
     "text": [
      "XGBoost Model is loading from disk..\n",
      "XGBoost Model is loading from disk..\n"
     ]
    },
    {
     "name": "stderr",
     "output_type": "stream",
     "text": [
      "E:\\Projects\\Claims_Deployment\\src\\model_app.py:35: SettingWithCopyWarning: \n",
      "A value is trying to be set on a copy of a slice from a DataFrame.\n",
      "Try using .loc[row_indexer,col_indexer] = value instead\n",
      "\n",
      "See the caveats in the documentation: https://pandas.pydata.org/pandas-docs/stable/user_guide/indexing.html#returning-a-view-versus-a-copy\n",
      "  self.X_train[col] = self.X_train[col].astype(float)\n",
      "E:\\Projects\\Claims_Deployment\\src\\model_app.py:35: SettingWithCopyWarning: \n",
      "A value is trying to be set on a copy of a slice from a DataFrame.\n",
      "Try using .loc[row_indexer,col_indexer] = value instead\n",
      "\n",
      "See the caveats in the documentation: https://pandas.pydata.org/pandas-docs/stable/user_guide/indexing.html#returning-a-view-versus-a-copy\n",
      "  self.X_train[col] = self.X_train[col].astype(float)\n",
      "E:\\Projects\\Claims_Deployment\\src\\model_app.py:35: SettingWithCopyWarning: \n",
      "A value is trying to be set on a copy of a slice from a DataFrame.\n",
      "Try using .loc[row_indexer,col_indexer] = value instead\n",
      "\n",
      "See the caveats in the documentation: https://pandas.pydata.org/pandas-docs/stable/user_guide/indexing.html#returning-a-view-versus-a-copy\n",
      "  self.X_train[col] = self.X_train[col].astype(float)\n",
      "E:\\Projects\\Claims_Deployment\\src\\model_app.py:35: SettingWithCopyWarning: \n",
      "A value is trying to be set on a copy of a slice from a DataFrame.\n",
      "Try using .loc[row_indexer,col_indexer] = value instead\n",
      "\n",
      "See the caveats in the documentation: https://pandas.pydata.org/pandas-docs/stable/user_guide/indexing.html#returning-a-view-versus-a-copy\n",
      "  self.X_train[col] = self.X_train[col].astype(float)\n",
      "E:\\Projects\\Claims_Deployment\\src\\model_app.py:35: SettingWithCopyWarning: \n",
      "A value is trying to be set on a copy of a slice from a DataFrame.\n",
      "Try using .loc[row_indexer,col_indexer] = value instead\n",
      "\n",
      "See the caveats in the documentation: https://pandas.pydata.org/pandas-docs/stable/user_guide/indexing.html#returning-a-view-versus-a-copy\n",
      "  self.X_train[col] = self.X_train[col].astype(float)\n",
      "E:\\Projects\\Claims_Deployment\\src\\model_app.py:35: SettingWithCopyWarning: \n",
      "A value is trying to be set on a copy of a slice from a DataFrame.\n",
      "Try using .loc[row_indexer,col_indexer] = value instead\n",
      "\n",
      "See the caveats in the documentation: https://pandas.pydata.org/pandas-docs/stable/user_guide/indexing.html#returning-a-view-versus-a-copy\n",
      "  self.X_train[col] = self.X_train[col].astype(float)\n",
      "E:\\Projects\\Claims_Deployment\\src\\model_app.py:35: SettingWithCopyWarning: \n",
      "A value is trying to be set on a copy of a slice from a DataFrame.\n",
      "Try using .loc[row_indexer,col_indexer] = value instead\n",
      "\n",
      "See the caveats in the documentation: https://pandas.pydata.org/pandas-docs/stable/user_guide/indexing.html#returning-a-view-versus-a-copy\n",
      "  self.X_train[col] = self.X_train[col].astype(float)\n",
      "E:\\Projects\\Claims_Deployment\\src\\model_app.py:35: SettingWithCopyWarning: \n",
      "A value is trying to be set on a copy of a slice from a DataFrame.\n",
      "Try using .loc[row_indexer,col_indexer] = value instead\n",
      "\n",
      "See the caveats in the documentation: https://pandas.pydata.org/pandas-docs/stable/user_guide/indexing.html#returning-a-view-versus-a-copy\n",
      "  self.X_train[col] = self.X_train[col].astype(float)\n",
      "E:\\Projects\\Claims_Deployment\\src\\model_app.py:35: SettingWithCopyWarning: \n",
      "A value is trying to be set on a copy of a slice from a DataFrame.\n",
      "Try using .loc[row_indexer,col_indexer] = value instead\n",
      "\n",
      "See the caveats in the documentation: https://pandas.pydata.org/pandas-docs/stable/user_guide/indexing.html#returning-a-view-versus-a-copy\n",
      "  self.X_train[col] = self.X_train[col].astype(float)\n",
      "E:\\Projects\\Claims_Deployment\\src\\model_app.py:35: SettingWithCopyWarning: \n",
      "A value is trying to be set on a copy of a slice from a DataFrame.\n",
      "Try using .loc[row_indexer,col_indexer] = value instead\n",
      "\n",
      "See the caveats in the documentation: https://pandas.pydata.org/pandas-docs/stable/user_guide/indexing.html#returning-a-view-versus-a-copy\n",
      "  self.X_train[col] = self.X_train[col].astype(float)\n",
      "E:\\Projects\\Claims_Deployment\\src\\model_app.py:35: SettingWithCopyWarning: \n",
      "A value is trying to be set on a copy of a slice from a DataFrame.\n",
      "Try using .loc[row_indexer,col_indexer] = value instead\n",
      "\n",
      "See the caveats in the documentation: https://pandas.pydata.org/pandas-docs/stable/user_guide/indexing.html#returning-a-view-versus-a-copy\n",
      "  self.X_train[col] = self.X_train[col].astype(float)\n",
      "E:\\Projects\\Claims_Deployment\\src\\model_app.py:35: SettingWithCopyWarning: \n",
      "A value is trying to be set on a copy of a slice from a DataFrame.\n",
      "Try using .loc[row_indexer,col_indexer] = value instead\n",
      "\n",
      "See the caveats in the documentation: https://pandas.pydata.org/pandas-docs/stable/user_guide/indexing.html#returning-a-view-versus-a-copy\n",
      "  self.X_train[col] = self.X_train[col].astype(float)\n",
      "E:\\Projects\\Claims_Deployment\\src\\model_app.py:35: SettingWithCopyWarning: \n",
      "A value is trying to be set on a copy of a slice from a DataFrame.\n",
      "Try using .loc[row_indexer,col_indexer] = value instead\n",
      "\n",
      "See the caveats in the documentation: https://pandas.pydata.org/pandas-docs/stable/user_guide/indexing.html#returning-a-view-versus-a-copy\n",
      "  self.X_train[col] = self.X_train[col].astype(float)\n",
      "E:\\Projects\\Claims_Deployment\\src\\model_app.py:35: SettingWithCopyWarning: \n",
      "A value is trying to be set on a copy of a slice from a DataFrame.\n",
      "Try using .loc[row_indexer,col_indexer] = value instead\n",
      "\n",
      "See the caveats in the documentation: https://pandas.pydata.org/pandas-docs/stable/user_guide/indexing.html#returning-a-view-versus-a-copy\n",
      "  self.X_train[col] = self.X_train[col].astype(float)\n"
     ]
    }
   ],
   "source": [
    "model_outcome = ModelApplication(X_train= X_train[:4],y_train= None,\n",
    "                                X_test= X_test2,y_test= None,\n",
    "                                enable_categorical=True,deployment_mode=True)\n",
    "model_outcome.get_model(force_retrain=False,model_name='outcome')\n",
    "\n",
    "\n",
    "model_reason = ModelApplication(X_train= X_train[:4],y_train= None,\n",
    "                                X_test= X_test2,y_test= None,\n",
    "                                enable_categorical=True,deployment_mode=True)\n",
    "model_reason.get_model(force_retrain=False,model_name='medical')"
   ],
   "metadata": {
    "collapsed": false,
    "ExecuteTime": {
     "end_time": "2024-10-12T23:46:59.186769200Z",
     "start_time": "2024-10-12T23:46:58.919225800Z"
    }
   }
  },
  {
   "cell_type": "code",
   "execution_count": 4,
   "outputs": [],
   "source": [
    "rejection_class  = model_outcome.model_predict(X_test2)\n",
    "rejection_reason = model_reason.model_predict(X_test2)"
   ],
   "metadata": {
    "collapsed": false,
    "ExecuteTime": {
     "end_time": "2024-10-12T23:46:59.343442800Z",
     "start_time": "2024-10-12T23:46:59.188765100Z"
    }
   }
  },
  {
   "cell_type": "code",
   "execution_count": null,
   "outputs": [],
   "source": [],
   "metadata": {
    "collapsed": false
   }
  }
 ],
 "metadata": {
  "kernelspec": {
   "display_name": "Python 3",
   "language": "python",
   "name": "python3"
  },
  "language_info": {
   "codemirror_mode": {
    "name": "ipython",
    "version": 2
   },
   "file_extension": ".py",
   "mimetype": "text/x-python",
   "name": "python",
   "nbconvert_exporter": "python",
   "pygments_lexer": "ipython2",
   "version": "2.7.6"
  }
 },
 "nbformat": 4,
 "nbformat_minor": 0
}
